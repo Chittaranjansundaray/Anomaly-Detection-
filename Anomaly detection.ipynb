{
  "nbformat": 4,
  "nbformat_minor": 0,
  "metadata": {
    "colab": {
      "name": "Assingment of Data Science",
      "provenance": [],
      "collapsed_sections": []
    },
    "kernelspec": {
      "name": "python3",
      "display_name": "Python 3"
    },
    "language_info": {
      "name": "python"
    }
  },
  "cells": [
    {
      "cell_type": "code",
      "execution_count": null,
      "metadata": {
        "colab": {
          "base_uri": "https://localhost:8080/",
          "height": 713
        },
        "id": "uQEPBQBTAPFe",
        "outputId": "b9074b2c-4119-43b6-d03c-eca5b7532cc3"
      },
      "outputs": [
        {
          "output_type": "stream",
          "name": "stderr",
          "text": [
            "/usr/local/lib/python3.7/dist-packages/IPython/core/interactiveshell.py:2882: DtypeWarning: Columns (1,3,4,5,6,8) have mixed types.Specify dtype option on import or set low_memory=False.\n",
            "  exec(code_obj, self.user_global_ns, self.user_ns)\n"
          ]
        },
        {
          "output_type": "execute_result",
          "data": {
            "text/plain": [
              "                  time Cyclone_Inlet_Gas_Temp Cyclone_Material_Temp  \\\n",
              "0        1/1/2017 0:00                 867.63                910.42   \n",
              "1        1/1/2017 0:05                 879.23                918.14   \n",
              "2        1/1/2017 0:10                 875.67                924.18   \n",
              "3        1/1/2017 0:15                 875.28                923.15   \n",
              "4        1/1/2017 0:20                 891.66                934.26   \n",
              "...                ...                    ...                   ...   \n",
              "377714  8/7/2020 11:55                 899.42                919.79   \n",
              "377715  8/7/2020 12:00                  879.9                895.02   \n",
              "377716  8/7/2020 12:05                  887.2                 895.7   \n",
              "377717  8/7/2020 12:10                  908.5                916.33   \n",
              "377718  8/7/2020 12:15                 880.86                905.31   \n",
              "\n",
              "       Cyclone_Outlet_Gas_draft Cyclone_cone_draft Cyclone_Gas_Outlet_Temp  \\\n",
              "0                       -189.54            -186.04                  852.13   \n",
              "1                       -184.33             -182.1                  862.53   \n",
              "2                       -181.26            -166.47                  866.06   \n",
              "3                       -179.15            -174.83                  865.85   \n",
              "4                       -178.32            -173.72                  876.06   \n",
              "...                         ...                ...                     ...   \n",
              "377714                  -224.07            -209.77                  901.01   \n",
              "377715                  -228.04            -211.28                  878.08   \n",
              "377716                  -230.11            -214.65                  885.32   \n",
              "377717                  -231.51            -218.09                   906.2   \n",
              "377718                  -235.02            -219.44                   882.1   \n",
              "\n",
              "       Cyclone_Inlet_Draft  Unnamed: 7  TEST  \n",
              "0                   -145.9         NaN  True  \n",
              "1                  -149.76         NaN  True  \n",
              "2                  -145.01         NaN  True  \n",
              "3                  -142.82         NaN  True  \n",
              "4                  -143.39         NaN  True  \n",
              "...                    ...         ...   ...  \n",
              "377714             -175.15         NaN   NaN  \n",
              "377715             -176.94         NaN   NaN  \n",
              "377716             -179.18         NaN   NaN  \n",
              "377717             -181.96         NaN   NaN  \n",
              "377718             -184.02         NaN  True  \n",
              "\n",
              "[377719 rows x 9 columns]"
            ],
            "text/html": [
              "\n",
              "  <div id=\"df-d8733f1f-b5e9-4b39-8c41-4721350b2b07\">\n",
              "    <div class=\"colab-df-container\">\n",
              "      <div>\n",
              "<style scoped>\n",
              "    .dataframe tbody tr th:only-of-type {\n",
              "        vertical-align: middle;\n",
              "    }\n",
              "\n",
              "    .dataframe tbody tr th {\n",
              "        vertical-align: top;\n",
              "    }\n",
              "\n",
              "    .dataframe thead th {\n",
              "        text-align: right;\n",
              "    }\n",
              "</style>\n",
              "<table border=\"1\" class=\"dataframe\">\n",
              "  <thead>\n",
              "    <tr style=\"text-align: right;\">\n",
              "      <th></th>\n",
              "      <th>time</th>\n",
              "      <th>Cyclone_Inlet_Gas_Temp</th>\n",
              "      <th>Cyclone_Material_Temp</th>\n",
              "      <th>Cyclone_Outlet_Gas_draft</th>\n",
              "      <th>Cyclone_cone_draft</th>\n",
              "      <th>Cyclone_Gas_Outlet_Temp</th>\n",
              "      <th>Cyclone_Inlet_Draft</th>\n",
              "      <th>Unnamed: 7</th>\n",
              "      <th>TEST</th>\n",
              "    </tr>\n",
              "  </thead>\n",
              "  <tbody>\n",
              "    <tr>\n",
              "      <th>0</th>\n",
              "      <td>1/1/2017 0:00</td>\n",
              "      <td>867.63</td>\n",
              "      <td>910.42</td>\n",
              "      <td>-189.54</td>\n",
              "      <td>-186.04</td>\n",
              "      <td>852.13</td>\n",
              "      <td>-145.9</td>\n",
              "      <td>NaN</td>\n",
              "      <td>True</td>\n",
              "    </tr>\n",
              "    <tr>\n",
              "      <th>1</th>\n",
              "      <td>1/1/2017 0:05</td>\n",
              "      <td>879.23</td>\n",
              "      <td>918.14</td>\n",
              "      <td>-184.33</td>\n",
              "      <td>-182.1</td>\n",
              "      <td>862.53</td>\n",
              "      <td>-149.76</td>\n",
              "      <td>NaN</td>\n",
              "      <td>True</td>\n",
              "    </tr>\n",
              "    <tr>\n",
              "      <th>2</th>\n",
              "      <td>1/1/2017 0:10</td>\n",
              "      <td>875.67</td>\n",
              "      <td>924.18</td>\n",
              "      <td>-181.26</td>\n",
              "      <td>-166.47</td>\n",
              "      <td>866.06</td>\n",
              "      <td>-145.01</td>\n",
              "      <td>NaN</td>\n",
              "      <td>True</td>\n",
              "    </tr>\n",
              "    <tr>\n",
              "      <th>3</th>\n",
              "      <td>1/1/2017 0:15</td>\n",
              "      <td>875.28</td>\n",
              "      <td>923.15</td>\n",
              "      <td>-179.15</td>\n",
              "      <td>-174.83</td>\n",
              "      <td>865.85</td>\n",
              "      <td>-142.82</td>\n",
              "      <td>NaN</td>\n",
              "      <td>True</td>\n",
              "    </tr>\n",
              "    <tr>\n",
              "      <th>4</th>\n",
              "      <td>1/1/2017 0:20</td>\n",
              "      <td>891.66</td>\n",
              "      <td>934.26</td>\n",
              "      <td>-178.32</td>\n",
              "      <td>-173.72</td>\n",
              "      <td>876.06</td>\n",
              "      <td>-143.39</td>\n",
              "      <td>NaN</td>\n",
              "      <td>True</td>\n",
              "    </tr>\n",
              "    <tr>\n",
              "      <th>...</th>\n",
              "      <td>...</td>\n",
              "      <td>...</td>\n",
              "      <td>...</td>\n",
              "      <td>...</td>\n",
              "      <td>...</td>\n",
              "      <td>...</td>\n",
              "      <td>...</td>\n",
              "      <td>...</td>\n",
              "      <td>...</td>\n",
              "    </tr>\n",
              "    <tr>\n",
              "      <th>377714</th>\n",
              "      <td>8/7/2020 11:55</td>\n",
              "      <td>899.42</td>\n",
              "      <td>919.79</td>\n",
              "      <td>-224.07</td>\n",
              "      <td>-209.77</td>\n",
              "      <td>901.01</td>\n",
              "      <td>-175.15</td>\n",
              "      <td>NaN</td>\n",
              "      <td>NaN</td>\n",
              "    </tr>\n",
              "    <tr>\n",
              "      <th>377715</th>\n",
              "      <td>8/7/2020 12:00</td>\n",
              "      <td>879.9</td>\n",
              "      <td>895.02</td>\n",
              "      <td>-228.04</td>\n",
              "      <td>-211.28</td>\n",
              "      <td>878.08</td>\n",
              "      <td>-176.94</td>\n",
              "      <td>NaN</td>\n",
              "      <td>NaN</td>\n",
              "    </tr>\n",
              "    <tr>\n",
              "      <th>377716</th>\n",
              "      <td>8/7/2020 12:05</td>\n",
              "      <td>887.2</td>\n",
              "      <td>895.7</td>\n",
              "      <td>-230.11</td>\n",
              "      <td>-214.65</td>\n",
              "      <td>885.32</td>\n",
              "      <td>-179.18</td>\n",
              "      <td>NaN</td>\n",
              "      <td>NaN</td>\n",
              "    </tr>\n",
              "    <tr>\n",
              "      <th>377717</th>\n",
              "      <td>8/7/2020 12:10</td>\n",
              "      <td>908.5</td>\n",
              "      <td>916.33</td>\n",
              "      <td>-231.51</td>\n",
              "      <td>-218.09</td>\n",
              "      <td>906.2</td>\n",
              "      <td>-181.96</td>\n",
              "      <td>NaN</td>\n",
              "      <td>NaN</td>\n",
              "    </tr>\n",
              "    <tr>\n",
              "      <th>377718</th>\n",
              "      <td>8/7/2020 12:15</td>\n",
              "      <td>880.86</td>\n",
              "      <td>905.31</td>\n",
              "      <td>-235.02</td>\n",
              "      <td>-219.44</td>\n",
              "      <td>882.1</td>\n",
              "      <td>-184.02</td>\n",
              "      <td>NaN</td>\n",
              "      <td>True</td>\n",
              "    </tr>\n",
              "  </tbody>\n",
              "</table>\n",
              "<p>377719 rows × 9 columns</p>\n",
              "</div>\n",
              "      <button class=\"colab-df-convert\" onclick=\"convertToInteractive('df-d8733f1f-b5e9-4b39-8c41-4721350b2b07')\"\n",
              "              title=\"Convert this dataframe to an interactive table.\"\n",
              "              style=\"display:none;\">\n",
              "        \n",
              "  <svg xmlns=\"http://www.w3.org/2000/svg\" height=\"24px\"viewBox=\"0 0 24 24\"\n",
              "       width=\"24px\">\n",
              "    <path d=\"M0 0h24v24H0V0z\" fill=\"none\"/>\n",
              "    <path d=\"M18.56 5.44l.94 2.06.94-2.06 2.06-.94-2.06-.94-.94-2.06-.94 2.06-2.06.94zm-11 1L8.5 8.5l.94-2.06 2.06-.94-2.06-.94L8.5 2.5l-.94 2.06-2.06.94zm10 10l.94 2.06.94-2.06 2.06-.94-2.06-.94-.94-2.06-.94 2.06-2.06.94z\"/><path d=\"M17.41 7.96l-1.37-1.37c-.4-.4-.92-.59-1.43-.59-.52 0-1.04.2-1.43.59L10.3 9.45l-7.72 7.72c-.78.78-.78 2.05 0 2.83L4 21.41c.39.39.9.59 1.41.59.51 0 1.02-.2 1.41-.59l7.78-7.78 2.81-2.81c.8-.78.8-2.07 0-2.86zM5.41 20L4 18.59l7.72-7.72 1.47 1.35L5.41 20z\"/>\n",
              "  </svg>\n",
              "      </button>\n",
              "      \n",
              "  <style>\n",
              "    .colab-df-container {\n",
              "      display:flex;\n",
              "      flex-wrap:wrap;\n",
              "      gap: 12px;\n",
              "    }\n",
              "\n",
              "    .colab-df-convert {\n",
              "      background-color: #E8F0FE;\n",
              "      border: none;\n",
              "      border-radius: 50%;\n",
              "      cursor: pointer;\n",
              "      display: none;\n",
              "      fill: #1967D2;\n",
              "      height: 32px;\n",
              "      padding: 0 0 0 0;\n",
              "      width: 32px;\n",
              "    }\n",
              "\n",
              "    .colab-df-convert:hover {\n",
              "      background-color: #E2EBFA;\n",
              "      box-shadow: 0px 1px 2px rgba(60, 64, 67, 0.3), 0px 1px 3px 1px rgba(60, 64, 67, 0.15);\n",
              "      fill: #174EA6;\n",
              "    }\n",
              "\n",
              "    [theme=dark] .colab-df-convert {\n",
              "      background-color: #3B4455;\n",
              "      fill: #D2E3FC;\n",
              "    }\n",
              "\n",
              "    [theme=dark] .colab-df-convert:hover {\n",
              "      background-color: #434B5C;\n",
              "      box-shadow: 0px 1px 3px 1px rgba(0, 0, 0, 0.15);\n",
              "      filter: drop-shadow(0px 1px 2px rgba(0, 0, 0, 0.3));\n",
              "      fill: #FFFFFF;\n",
              "    }\n",
              "  </style>\n",
              "\n",
              "      <script>\n",
              "        const buttonEl =\n",
              "          document.querySelector('#df-d8733f1f-b5e9-4b39-8c41-4721350b2b07 button.colab-df-convert');\n",
              "        buttonEl.style.display =\n",
              "          google.colab.kernel.accessAllowed ? 'block' : 'none';\n",
              "\n",
              "        async function convertToInteractive(key) {\n",
              "          const element = document.querySelector('#df-d8733f1f-b5e9-4b39-8c41-4721350b2b07');\n",
              "          const dataTable =\n",
              "            await google.colab.kernel.invokeFunction('convertToInteractive',\n",
              "                                                     [key], {});\n",
              "          if (!dataTable) return;\n",
              "\n",
              "          const docLinkHtml = 'Like what you see? Visit the ' +\n",
              "            '<a target=\"_blank\" href=https://colab.research.google.com/notebooks/data_table.ipynb>data table notebook</a>'\n",
              "            + ' to learn more about interactive tables.';\n",
              "          element.innerHTML = '';\n",
              "          dataTable['output_type'] = 'display_data';\n",
              "          await google.colab.output.renderOutput(dataTable, element);\n",
              "          const docLink = document.createElement('div');\n",
              "          docLink.innerHTML = docLinkHtml;\n",
              "          element.appendChild(docLink);\n",
              "        }\n",
              "      </script>\n",
              "    </div>\n",
              "  </div>\n",
              "  "
            ]
          },
          "metadata": {},
          "execution_count": 68
        }
      ],
      "source": [
        "import pandas as pd\n",
        "import numpy as np\n",
        "from sklearn.preprocessing import StandardScaler\n",
        "from sklearn.decomposition import PCA\n",
        "df=pd.read_csv(\"/content/data.csv\")\n",
        "df"
      ]
    },
    {
      "cell_type": "code",
      "source": [
        "df.columns"
      ],
      "metadata": {
        "id": "UVdbMHaCAioM",
        "colab": {
          "base_uri": "https://localhost:8080/"
        },
        "outputId": "70457d7e-303b-423a-e711-9560ad0e9f95"
      },
      "execution_count": null,
      "outputs": [
        {
          "output_type": "execute_result",
          "data": {
            "text/plain": [
              "Index(['time', 'Cyclone_Inlet_Gas_Temp', 'Cyclone_Material_Temp',\n",
              "       'Cyclone_Outlet_Gas_draft', 'Cyclone_cone_draft',\n",
              "       'Cyclone_Gas_Outlet_Temp', 'Cyclone_Inlet_Draft', 'Unnamed: 7', 'TEST'],\n",
              "      dtype='object')"
            ]
          },
          "metadata": {},
          "execution_count": 69
        }
      ]
    },
    {
      "cell_type": "code",
      "source": [
        "df.head()"
      ],
      "metadata": {
        "colab": {
          "base_uri": "https://localhost:8080/",
          "height": 374
        },
        "id": "QI8xvYelGB6q",
        "outputId": "02863f44-01db-4079-91b9-d4b70fef4712"
      },
      "execution_count": null,
      "outputs": [
        {
          "output_type": "execute_result",
          "data": {
            "text/plain": [
              "            time Cyclone_Inlet_Gas_Temp Cyclone_Material_Temp  \\\n",
              "0  1/1/2017 0:00                 867.63                910.42   \n",
              "1  1/1/2017 0:05                 879.23                918.14   \n",
              "2  1/1/2017 0:10                 875.67                924.18   \n",
              "3  1/1/2017 0:15                 875.28                923.15   \n",
              "4  1/1/2017 0:20                 891.66                934.26   \n",
              "\n",
              "  Cyclone_Outlet_Gas_draft Cyclone_cone_draft Cyclone_Gas_Outlet_Temp  \\\n",
              "0                  -189.54            -186.04                  852.13   \n",
              "1                  -184.33             -182.1                  862.53   \n",
              "2                  -181.26            -166.47                  866.06   \n",
              "3                  -179.15            -174.83                  865.85   \n",
              "4                  -178.32            -173.72                  876.06   \n",
              "\n",
              "  Cyclone_Inlet_Draft  Unnamed: 7  TEST  \n",
              "0              -145.9         NaN  True  \n",
              "1             -149.76         NaN  True  \n",
              "2             -145.01         NaN  True  \n",
              "3             -142.82         NaN  True  \n",
              "4             -143.39         NaN  True  "
            ],
            "text/html": [
              "\n",
              "  <div id=\"df-e0bf68af-6158-4d7a-9c15-e31640e6fbbe\">\n",
              "    <div class=\"colab-df-container\">\n",
              "      <div>\n",
              "<style scoped>\n",
              "    .dataframe tbody tr th:only-of-type {\n",
              "        vertical-align: middle;\n",
              "    }\n",
              "\n",
              "    .dataframe tbody tr th {\n",
              "        vertical-align: top;\n",
              "    }\n",
              "\n",
              "    .dataframe thead th {\n",
              "        text-align: right;\n",
              "    }\n",
              "</style>\n",
              "<table border=\"1\" class=\"dataframe\">\n",
              "  <thead>\n",
              "    <tr style=\"text-align: right;\">\n",
              "      <th></th>\n",
              "      <th>time</th>\n",
              "      <th>Cyclone_Inlet_Gas_Temp</th>\n",
              "      <th>Cyclone_Material_Temp</th>\n",
              "      <th>Cyclone_Outlet_Gas_draft</th>\n",
              "      <th>Cyclone_cone_draft</th>\n",
              "      <th>Cyclone_Gas_Outlet_Temp</th>\n",
              "      <th>Cyclone_Inlet_Draft</th>\n",
              "      <th>Unnamed: 7</th>\n",
              "      <th>TEST</th>\n",
              "    </tr>\n",
              "  </thead>\n",
              "  <tbody>\n",
              "    <tr>\n",
              "      <th>0</th>\n",
              "      <td>1/1/2017 0:00</td>\n",
              "      <td>867.63</td>\n",
              "      <td>910.42</td>\n",
              "      <td>-189.54</td>\n",
              "      <td>-186.04</td>\n",
              "      <td>852.13</td>\n",
              "      <td>-145.9</td>\n",
              "      <td>NaN</td>\n",
              "      <td>True</td>\n",
              "    </tr>\n",
              "    <tr>\n",
              "      <th>1</th>\n",
              "      <td>1/1/2017 0:05</td>\n",
              "      <td>879.23</td>\n",
              "      <td>918.14</td>\n",
              "      <td>-184.33</td>\n",
              "      <td>-182.1</td>\n",
              "      <td>862.53</td>\n",
              "      <td>-149.76</td>\n",
              "      <td>NaN</td>\n",
              "      <td>True</td>\n",
              "    </tr>\n",
              "    <tr>\n",
              "      <th>2</th>\n",
              "      <td>1/1/2017 0:10</td>\n",
              "      <td>875.67</td>\n",
              "      <td>924.18</td>\n",
              "      <td>-181.26</td>\n",
              "      <td>-166.47</td>\n",
              "      <td>866.06</td>\n",
              "      <td>-145.01</td>\n",
              "      <td>NaN</td>\n",
              "      <td>True</td>\n",
              "    </tr>\n",
              "    <tr>\n",
              "      <th>3</th>\n",
              "      <td>1/1/2017 0:15</td>\n",
              "      <td>875.28</td>\n",
              "      <td>923.15</td>\n",
              "      <td>-179.15</td>\n",
              "      <td>-174.83</td>\n",
              "      <td>865.85</td>\n",
              "      <td>-142.82</td>\n",
              "      <td>NaN</td>\n",
              "      <td>True</td>\n",
              "    </tr>\n",
              "    <tr>\n",
              "      <th>4</th>\n",
              "      <td>1/1/2017 0:20</td>\n",
              "      <td>891.66</td>\n",
              "      <td>934.26</td>\n",
              "      <td>-178.32</td>\n",
              "      <td>-173.72</td>\n",
              "      <td>876.06</td>\n",
              "      <td>-143.39</td>\n",
              "      <td>NaN</td>\n",
              "      <td>True</td>\n",
              "    </tr>\n",
              "  </tbody>\n",
              "</table>\n",
              "</div>\n",
              "      <button class=\"colab-df-convert\" onclick=\"convertToInteractive('df-e0bf68af-6158-4d7a-9c15-e31640e6fbbe')\"\n",
              "              title=\"Convert this dataframe to an interactive table.\"\n",
              "              style=\"display:none;\">\n",
              "        \n",
              "  <svg xmlns=\"http://www.w3.org/2000/svg\" height=\"24px\"viewBox=\"0 0 24 24\"\n",
              "       width=\"24px\">\n",
              "    <path d=\"M0 0h24v24H0V0z\" fill=\"none\"/>\n",
              "    <path d=\"M18.56 5.44l.94 2.06.94-2.06 2.06-.94-2.06-.94-.94-2.06-.94 2.06-2.06.94zm-11 1L8.5 8.5l.94-2.06 2.06-.94-2.06-.94L8.5 2.5l-.94 2.06-2.06.94zm10 10l.94 2.06.94-2.06 2.06-.94-2.06-.94-.94-2.06-.94 2.06-2.06.94z\"/><path d=\"M17.41 7.96l-1.37-1.37c-.4-.4-.92-.59-1.43-.59-.52 0-1.04.2-1.43.59L10.3 9.45l-7.72 7.72c-.78.78-.78 2.05 0 2.83L4 21.41c.39.39.9.59 1.41.59.51 0 1.02-.2 1.41-.59l7.78-7.78 2.81-2.81c.8-.78.8-2.07 0-2.86zM5.41 20L4 18.59l7.72-7.72 1.47 1.35L5.41 20z\"/>\n",
              "  </svg>\n",
              "      </button>\n",
              "      \n",
              "  <style>\n",
              "    .colab-df-container {\n",
              "      display:flex;\n",
              "      flex-wrap:wrap;\n",
              "      gap: 12px;\n",
              "    }\n",
              "\n",
              "    .colab-df-convert {\n",
              "      background-color: #E8F0FE;\n",
              "      border: none;\n",
              "      border-radius: 50%;\n",
              "      cursor: pointer;\n",
              "      display: none;\n",
              "      fill: #1967D2;\n",
              "      height: 32px;\n",
              "      padding: 0 0 0 0;\n",
              "      width: 32px;\n",
              "    }\n",
              "\n",
              "    .colab-df-convert:hover {\n",
              "      background-color: #E2EBFA;\n",
              "      box-shadow: 0px 1px 2px rgba(60, 64, 67, 0.3), 0px 1px 3px 1px rgba(60, 64, 67, 0.15);\n",
              "      fill: #174EA6;\n",
              "    }\n",
              "\n",
              "    [theme=dark] .colab-df-convert {\n",
              "      background-color: #3B4455;\n",
              "      fill: #D2E3FC;\n",
              "    }\n",
              "\n",
              "    [theme=dark] .colab-df-convert:hover {\n",
              "      background-color: #434B5C;\n",
              "      box-shadow: 0px 1px 3px 1px rgba(0, 0, 0, 0.15);\n",
              "      filter: drop-shadow(0px 1px 2px rgba(0, 0, 0, 0.3));\n",
              "      fill: #FFFFFF;\n",
              "    }\n",
              "  </style>\n",
              "\n",
              "      <script>\n",
              "        const buttonEl =\n",
              "          document.querySelector('#df-e0bf68af-6158-4d7a-9c15-e31640e6fbbe button.colab-df-convert');\n",
              "        buttonEl.style.display =\n",
              "          google.colab.kernel.accessAllowed ? 'block' : 'none';\n",
              "\n",
              "        async function convertToInteractive(key) {\n",
              "          const element = document.querySelector('#df-e0bf68af-6158-4d7a-9c15-e31640e6fbbe');\n",
              "          const dataTable =\n",
              "            await google.colab.kernel.invokeFunction('convertToInteractive',\n",
              "                                                     [key], {});\n",
              "          if (!dataTable) return;\n",
              "\n",
              "          const docLinkHtml = 'Like what you see? Visit the ' +\n",
              "            '<a target=\"_blank\" href=https://colab.research.google.com/notebooks/data_table.ipynb>data table notebook</a>'\n",
              "            + ' to learn more about interactive tables.';\n",
              "          element.innerHTML = '';\n",
              "          dataTable['output_type'] = 'display_data';\n",
              "          await google.colab.output.renderOutput(dataTable, element);\n",
              "          const docLink = document.createElement('div');\n",
              "          docLink.innerHTML = docLinkHtml;\n",
              "          element.appendChild(docLink);\n",
              "        }\n",
              "      </script>\n",
              "    </div>\n",
              "  </div>\n",
              "  "
            ]
          },
          "metadata": {},
          "execution_count": 70
        }
      ]
    },
    {
      "cell_type": "code",
      "source": [
        "df.shape"
      ],
      "metadata": {
        "colab": {
          "base_uri": "https://localhost:8080/"
        },
        "id": "VHlDErvwGGBU",
        "outputId": "afd61de6-064a-4838-a67d-4c64c8d8ae4f"
      },
      "execution_count": null,
      "outputs": [
        {
          "output_type": "execute_result",
          "data": {
            "text/plain": [
              "(377719, 9)"
            ]
          },
          "metadata": {},
          "execution_count": 71
        }
      ]
    },
    {
      "cell_type": "code",
      "source": [
        "df.corr()"
      ],
      "metadata": {
        "colab": {
          "base_uri": "https://localhost:8080/",
          "height": 81
        },
        "id": "Hr5sPTD6GNjI",
        "outputId": "029a1c80-2019-4022-82ee-770868bc20ad"
      },
      "execution_count": null,
      "outputs": [
        {
          "output_type": "execute_result",
          "data": {
            "text/plain": [
              "            Unnamed: 7\n",
              "Unnamed: 7         NaN"
            ],
            "text/html": [
              "\n",
              "  <div id=\"df-27179771-7604-44ae-a6a4-95aabf57fe8d\">\n",
              "    <div class=\"colab-df-container\">\n",
              "      <div>\n",
              "<style scoped>\n",
              "    .dataframe tbody tr th:only-of-type {\n",
              "        vertical-align: middle;\n",
              "    }\n",
              "\n",
              "    .dataframe tbody tr th {\n",
              "        vertical-align: top;\n",
              "    }\n",
              "\n",
              "    .dataframe thead th {\n",
              "        text-align: right;\n",
              "    }\n",
              "</style>\n",
              "<table border=\"1\" class=\"dataframe\">\n",
              "  <thead>\n",
              "    <tr style=\"text-align: right;\">\n",
              "      <th></th>\n",
              "      <th>Unnamed: 7</th>\n",
              "    </tr>\n",
              "  </thead>\n",
              "  <tbody>\n",
              "    <tr>\n",
              "      <th>Unnamed: 7</th>\n",
              "      <td>NaN</td>\n",
              "    </tr>\n",
              "  </tbody>\n",
              "</table>\n",
              "</div>\n",
              "      <button class=\"colab-df-convert\" onclick=\"convertToInteractive('df-27179771-7604-44ae-a6a4-95aabf57fe8d')\"\n",
              "              title=\"Convert this dataframe to an interactive table.\"\n",
              "              style=\"display:none;\">\n",
              "        \n",
              "  <svg xmlns=\"http://www.w3.org/2000/svg\" height=\"24px\"viewBox=\"0 0 24 24\"\n",
              "       width=\"24px\">\n",
              "    <path d=\"M0 0h24v24H0V0z\" fill=\"none\"/>\n",
              "    <path d=\"M18.56 5.44l.94 2.06.94-2.06 2.06-.94-2.06-.94-.94-2.06-.94 2.06-2.06.94zm-11 1L8.5 8.5l.94-2.06 2.06-.94-2.06-.94L8.5 2.5l-.94 2.06-2.06.94zm10 10l.94 2.06.94-2.06 2.06-.94-2.06-.94-.94-2.06-.94 2.06-2.06.94z\"/><path d=\"M17.41 7.96l-1.37-1.37c-.4-.4-.92-.59-1.43-.59-.52 0-1.04.2-1.43.59L10.3 9.45l-7.72 7.72c-.78.78-.78 2.05 0 2.83L4 21.41c.39.39.9.59 1.41.59.51 0 1.02-.2 1.41-.59l7.78-7.78 2.81-2.81c.8-.78.8-2.07 0-2.86zM5.41 20L4 18.59l7.72-7.72 1.47 1.35L5.41 20z\"/>\n",
              "  </svg>\n",
              "      </button>\n",
              "      \n",
              "  <style>\n",
              "    .colab-df-container {\n",
              "      display:flex;\n",
              "      flex-wrap:wrap;\n",
              "      gap: 12px;\n",
              "    }\n",
              "\n",
              "    .colab-df-convert {\n",
              "      background-color: #E8F0FE;\n",
              "      border: none;\n",
              "      border-radius: 50%;\n",
              "      cursor: pointer;\n",
              "      display: none;\n",
              "      fill: #1967D2;\n",
              "      height: 32px;\n",
              "      padding: 0 0 0 0;\n",
              "      width: 32px;\n",
              "    }\n",
              "\n",
              "    .colab-df-convert:hover {\n",
              "      background-color: #E2EBFA;\n",
              "      box-shadow: 0px 1px 2px rgba(60, 64, 67, 0.3), 0px 1px 3px 1px rgba(60, 64, 67, 0.15);\n",
              "      fill: #174EA6;\n",
              "    }\n",
              "\n",
              "    [theme=dark] .colab-df-convert {\n",
              "      background-color: #3B4455;\n",
              "      fill: #D2E3FC;\n",
              "    }\n",
              "\n",
              "    [theme=dark] .colab-df-convert:hover {\n",
              "      background-color: #434B5C;\n",
              "      box-shadow: 0px 1px 3px 1px rgba(0, 0, 0, 0.15);\n",
              "      filter: drop-shadow(0px 1px 2px rgba(0, 0, 0, 0.3));\n",
              "      fill: #FFFFFF;\n",
              "    }\n",
              "  </style>\n",
              "\n",
              "      <script>\n",
              "        const buttonEl =\n",
              "          document.querySelector('#df-27179771-7604-44ae-a6a4-95aabf57fe8d button.colab-df-convert');\n",
              "        buttonEl.style.display =\n",
              "          google.colab.kernel.accessAllowed ? 'block' : 'none';\n",
              "\n",
              "        async function convertToInteractive(key) {\n",
              "          const element = document.querySelector('#df-27179771-7604-44ae-a6a4-95aabf57fe8d');\n",
              "          const dataTable =\n",
              "            await google.colab.kernel.invokeFunction('convertToInteractive',\n",
              "                                                     [key], {});\n",
              "          if (!dataTable) return;\n",
              "\n",
              "          const docLinkHtml = 'Like what you see? Visit the ' +\n",
              "            '<a target=\"_blank\" href=https://colab.research.google.com/notebooks/data_table.ipynb>data table notebook</a>'\n",
              "            + ' to learn more about interactive tables.';\n",
              "          element.innerHTML = '';\n",
              "          dataTable['output_type'] = 'display_data';\n",
              "          await google.colab.output.renderOutput(dataTable, element);\n",
              "          const docLink = document.createElement('div');\n",
              "          docLink.innerHTML = docLinkHtml;\n",
              "          element.appendChild(docLink);\n",
              "        }\n",
              "      </script>\n",
              "    </div>\n",
              "  </div>\n",
              "  "
            ]
          },
          "metadata": {},
          "execution_count": 72
        }
      ]
    },
    {
      "cell_type": "code",
      "source": [
        "df.isnull().sum()"
      ],
      "metadata": {
        "colab": {
          "base_uri": "https://localhost:8080/"
        },
        "id": "_Wm_b5XjGQdS",
        "outputId": "84df0962-73a9-481a-d22a-eec2ecf65b7e"
      },
      "execution_count": null,
      "outputs": [
        {
          "output_type": "execute_result",
          "data": {
            "text/plain": [
              "time                             0\n",
              "Cyclone_Inlet_Gas_Temp           0\n",
              "Cyclone_Material_Temp            0\n",
              "Cyclone_Outlet_Gas_draft         0\n",
              "Cyclone_cone_draft               0\n",
              "Cyclone_Gas_Outlet_Temp          0\n",
              "Cyclone_Inlet_Draft              0\n",
              "Unnamed: 7                  377719\n",
              "TEST                        351303\n",
              "dtype: int64"
            ]
          },
          "metadata": {},
          "execution_count": 73
        }
      ]
    },
    {
      "cell_type": "code",
      "source": [
        "df.describe"
      ],
      "metadata": {
        "colab": {
          "base_uri": "https://localhost:8080/"
        },
        "id": "efCecfddGTc-",
        "outputId": "377a2cd8-dfb5-45fe-9395-9e2959851fce"
      },
      "execution_count": null,
      "outputs": [
        {
          "output_type": "execute_result",
          "data": {
            "text/plain": [
              "<bound method NDFrame.describe of                   time Cyclone_Inlet_Gas_Temp Cyclone_Material_Temp  \\\n",
              "0        1/1/2017 0:00                 867.63                910.42   \n",
              "1        1/1/2017 0:05                 879.23                918.14   \n",
              "2        1/1/2017 0:10                 875.67                924.18   \n",
              "3        1/1/2017 0:15                 875.28                923.15   \n",
              "4        1/1/2017 0:20                 891.66                934.26   \n",
              "...                ...                    ...                   ...   \n",
              "377714  8/7/2020 11:55                 899.42                919.79   \n",
              "377715  8/7/2020 12:00                  879.9                895.02   \n",
              "377716  8/7/2020 12:05                  887.2                 895.7   \n",
              "377717  8/7/2020 12:10                  908.5                916.33   \n",
              "377718  8/7/2020 12:15                 880.86                905.31   \n",
              "\n",
              "       Cyclone_Outlet_Gas_draft Cyclone_cone_draft Cyclone_Gas_Outlet_Temp  \\\n",
              "0                       -189.54            -186.04                  852.13   \n",
              "1                       -184.33             -182.1                  862.53   \n",
              "2                       -181.26            -166.47                  866.06   \n",
              "3                       -179.15            -174.83                  865.85   \n",
              "4                       -178.32            -173.72                  876.06   \n",
              "...                         ...                ...                     ...   \n",
              "377714                  -224.07            -209.77                  901.01   \n",
              "377715                  -228.04            -211.28                  878.08   \n",
              "377716                  -230.11            -214.65                  885.32   \n",
              "377717                  -231.51            -218.09                   906.2   \n",
              "377718                  -235.02            -219.44                   882.1   \n",
              "\n",
              "       Cyclone_Inlet_Draft  Unnamed: 7  TEST  \n",
              "0                   -145.9         NaN  True  \n",
              "1                  -149.76         NaN  True  \n",
              "2                  -145.01         NaN  True  \n",
              "3                  -142.82         NaN  True  \n",
              "4                  -143.39         NaN  True  \n",
              "...                    ...         ...   ...  \n",
              "377714             -175.15         NaN   NaN  \n",
              "377715             -176.94         NaN   NaN  \n",
              "377716             -179.18         NaN   NaN  \n",
              "377717             -181.96         NaN   NaN  \n",
              "377718             -184.02         NaN  True  \n",
              "\n",
              "[377719 rows x 9 columns]>"
            ]
          },
          "metadata": {},
          "execution_count": 74
        }
      ]
    },
    {
      "cell_type": "code",
      "source": [
        "df['Cyclone_Inlet_Gas_Temp'][2470:2472]"
      ],
      "metadata": {
        "colab": {
          "base_uri": "https://localhost:8080/"
        },
        "id": "MFV8MLRuGbw2",
        "outputId": "a6f4219d-90c5-476b-eaab-2ca5245ec729"
      },
      "execution_count": null,
      "outputs": [
        {
          "output_type": "execute_result",
          "data": {
            "text/plain": [
              "2470          921.7\n",
              "2471    I/O Timeout\n",
              "Name: Cyclone_Inlet_Gas_Temp, dtype: object"
            ]
          },
          "metadata": {},
          "execution_count": 75
        }
      ]
    },
    {
      "cell_type": "code",
      "source": [
        "df['Cyclone_Inlet_Gas_Temp'].unique()"
      ],
      "metadata": {
        "colab": {
          "base_uri": "https://localhost:8080/"
        },
        "id": "__JXGnE8GhTX",
        "outputId": "216a1e78-f86e-4ff3-f83c-743a53e6ced7"
      },
      "execution_count": null,
      "outputs": [
        {
          "output_type": "execute_result",
          "data": {
            "text/plain": [
              "array(['867.63', '879.23', '875.67', ..., 879.47, 879.68, 871.15],\n",
              "      dtype=object)"
            ]
          },
          "metadata": {},
          "execution_count": 76
        }
      ]
    },
    {
      "cell_type": "code",
      "source": [
        "df.loc[df['Cyclone_Material_Temp'] == \"I/O Timeout\"]\n",
        "#df.loc[df['Cyclone_Inlet_Gas_Temp']==\"Unit Down\"]"
      ],
      "metadata": {
        "colab": {
          "base_uri": "https://localhost:8080/",
          "height": 679
        },
        "id": "iX_7VTWbGwmk",
        "outputId": "f3f0da49-6afe-424f-e93b-c9bc2f01f40f"
      },
      "execution_count": null,
      "outputs": [
        {
          "output_type": "execute_result",
          "data": {
            "text/plain": [
              "                   time Cyclone_Inlet_Gas_Temp Cyclone_Material_Temp  \\\n",
              "2471     1/9/2017 13:55            I/O Timeout           I/O Timeout   \n",
              "2472     1/9/2017 14:00            I/O Timeout           I/O Timeout   \n",
              "2473     1/9/2017 14:05            I/O Timeout           I/O Timeout   \n",
              "2474     1/9/2017 14:10            I/O Timeout           I/O Timeout   \n",
              "2475     1/9/2017 14:15            I/O Timeout           I/O Timeout   \n",
              "...                 ...                    ...                   ...   \n",
              "322814  1/29/2020 20:55            I/O Timeout           I/O Timeout   \n",
              "322815  1/29/2020 21:00            I/O Timeout           I/O Timeout   \n",
              "322816  1/29/2020 21:05            I/O Timeout           I/O Timeout   \n",
              "322817  1/29/2020 21:10            I/O Timeout           I/O Timeout   \n",
              "322818  1/29/2020 21:15            I/O Timeout           I/O Timeout   \n",
              "\n",
              "       Cyclone_Outlet_Gas_draft Cyclone_cone_draft Cyclone_Gas_Outlet_Temp  \\\n",
              "2471                I/O Timeout        I/O Timeout             I/O Timeout   \n",
              "2472                I/O Timeout        I/O Timeout             I/O Timeout   \n",
              "2473                I/O Timeout        I/O Timeout             I/O Timeout   \n",
              "2474                I/O Timeout        I/O Timeout             I/O Timeout   \n",
              "2475                I/O Timeout        I/O Timeout             I/O Timeout   \n",
              "...                         ...                ...                     ...   \n",
              "322814              I/O Timeout        I/O Timeout             I/O Timeout   \n",
              "322815              I/O Timeout        I/O Timeout             I/O Timeout   \n",
              "322816              I/O Timeout        I/O Timeout             I/O Timeout   \n",
              "322817              I/O Timeout        I/O Timeout             I/O Timeout   \n",
              "322818              I/O Timeout        I/O Timeout             I/O Timeout   \n",
              "\n",
              "       Cyclone_Inlet_Draft  Unnamed: 7   TEST  \n",
              "2471           I/O Timeout         NaN  False  \n",
              "2472           I/O Timeout         NaN  False  \n",
              "2473           I/O Timeout         NaN  False  \n",
              "2474           I/O Timeout         NaN  False  \n",
              "2475           I/O Timeout         NaN  False  \n",
              "...                    ...         ...    ...  \n",
              "322814         I/O Timeout         NaN    NaN  \n",
              "322815         I/O Timeout         NaN    NaN  \n",
              "322816         I/O Timeout         NaN    NaN  \n",
              "322817         I/O Timeout         NaN    NaN  \n",
              "322818         I/O Timeout         NaN    NaN  \n",
              "\n",
              "[470 rows x 9 columns]"
            ],
            "text/html": [
              "\n",
              "  <div id=\"df-35e2c34f-11f4-4db5-ba86-0824da491d24\">\n",
              "    <div class=\"colab-df-container\">\n",
              "      <div>\n",
              "<style scoped>\n",
              "    .dataframe tbody tr th:only-of-type {\n",
              "        vertical-align: middle;\n",
              "    }\n",
              "\n",
              "    .dataframe tbody tr th {\n",
              "        vertical-align: top;\n",
              "    }\n",
              "\n",
              "    .dataframe thead th {\n",
              "        text-align: right;\n",
              "    }\n",
              "</style>\n",
              "<table border=\"1\" class=\"dataframe\">\n",
              "  <thead>\n",
              "    <tr style=\"text-align: right;\">\n",
              "      <th></th>\n",
              "      <th>time</th>\n",
              "      <th>Cyclone_Inlet_Gas_Temp</th>\n",
              "      <th>Cyclone_Material_Temp</th>\n",
              "      <th>Cyclone_Outlet_Gas_draft</th>\n",
              "      <th>Cyclone_cone_draft</th>\n",
              "      <th>Cyclone_Gas_Outlet_Temp</th>\n",
              "      <th>Cyclone_Inlet_Draft</th>\n",
              "      <th>Unnamed: 7</th>\n",
              "      <th>TEST</th>\n",
              "    </tr>\n",
              "  </thead>\n",
              "  <tbody>\n",
              "    <tr>\n",
              "      <th>2471</th>\n",
              "      <td>1/9/2017 13:55</td>\n",
              "      <td>I/O Timeout</td>\n",
              "      <td>I/O Timeout</td>\n",
              "      <td>I/O Timeout</td>\n",
              "      <td>I/O Timeout</td>\n",
              "      <td>I/O Timeout</td>\n",
              "      <td>I/O Timeout</td>\n",
              "      <td>NaN</td>\n",
              "      <td>False</td>\n",
              "    </tr>\n",
              "    <tr>\n",
              "      <th>2472</th>\n",
              "      <td>1/9/2017 14:00</td>\n",
              "      <td>I/O Timeout</td>\n",
              "      <td>I/O Timeout</td>\n",
              "      <td>I/O Timeout</td>\n",
              "      <td>I/O Timeout</td>\n",
              "      <td>I/O Timeout</td>\n",
              "      <td>I/O Timeout</td>\n",
              "      <td>NaN</td>\n",
              "      <td>False</td>\n",
              "    </tr>\n",
              "    <tr>\n",
              "      <th>2473</th>\n",
              "      <td>1/9/2017 14:05</td>\n",
              "      <td>I/O Timeout</td>\n",
              "      <td>I/O Timeout</td>\n",
              "      <td>I/O Timeout</td>\n",
              "      <td>I/O Timeout</td>\n",
              "      <td>I/O Timeout</td>\n",
              "      <td>I/O Timeout</td>\n",
              "      <td>NaN</td>\n",
              "      <td>False</td>\n",
              "    </tr>\n",
              "    <tr>\n",
              "      <th>2474</th>\n",
              "      <td>1/9/2017 14:10</td>\n",
              "      <td>I/O Timeout</td>\n",
              "      <td>I/O Timeout</td>\n",
              "      <td>I/O Timeout</td>\n",
              "      <td>I/O Timeout</td>\n",
              "      <td>I/O Timeout</td>\n",
              "      <td>I/O Timeout</td>\n",
              "      <td>NaN</td>\n",
              "      <td>False</td>\n",
              "    </tr>\n",
              "    <tr>\n",
              "      <th>2475</th>\n",
              "      <td>1/9/2017 14:15</td>\n",
              "      <td>I/O Timeout</td>\n",
              "      <td>I/O Timeout</td>\n",
              "      <td>I/O Timeout</td>\n",
              "      <td>I/O Timeout</td>\n",
              "      <td>I/O Timeout</td>\n",
              "      <td>I/O Timeout</td>\n",
              "      <td>NaN</td>\n",
              "      <td>False</td>\n",
              "    </tr>\n",
              "    <tr>\n",
              "      <th>...</th>\n",
              "      <td>...</td>\n",
              "      <td>...</td>\n",
              "      <td>...</td>\n",
              "      <td>...</td>\n",
              "      <td>...</td>\n",
              "      <td>...</td>\n",
              "      <td>...</td>\n",
              "      <td>...</td>\n",
              "      <td>...</td>\n",
              "    </tr>\n",
              "    <tr>\n",
              "      <th>322814</th>\n",
              "      <td>1/29/2020 20:55</td>\n",
              "      <td>I/O Timeout</td>\n",
              "      <td>I/O Timeout</td>\n",
              "      <td>I/O Timeout</td>\n",
              "      <td>I/O Timeout</td>\n",
              "      <td>I/O Timeout</td>\n",
              "      <td>I/O Timeout</td>\n",
              "      <td>NaN</td>\n",
              "      <td>NaN</td>\n",
              "    </tr>\n",
              "    <tr>\n",
              "      <th>322815</th>\n",
              "      <td>1/29/2020 21:00</td>\n",
              "      <td>I/O Timeout</td>\n",
              "      <td>I/O Timeout</td>\n",
              "      <td>I/O Timeout</td>\n",
              "      <td>I/O Timeout</td>\n",
              "      <td>I/O Timeout</td>\n",
              "      <td>I/O Timeout</td>\n",
              "      <td>NaN</td>\n",
              "      <td>NaN</td>\n",
              "    </tr>\n",
              "    <tr>\n",
              "      <th>322816</th>\n",
              "      <td>1/29/2020 21:05</td>\n",
              "      <td>I/O Timeout</td>\n",
              "      <td>I/O Timeout</td>\n",
              "      <td>I/O Timeout</td>\n",
              "      <td>I/O Timeout</td>\n",
              "      <td>I/O Timeout</td>\n",
              "      <td>I/O Timeout</td>\n",
              "      <td>NaN</td>\n",
              "      <td>NaN</td>\n",
              "    </tr>\n",
              "    <tr>\n",
              "      <th>322817</th>\n",
              "      <td>1/29/2020 21:10</td>\n",
              "      <td>I/O Timeout</td>\n",
              "      <td>I/O Timeout</td>\n",
              "      <td>I/O Timeout</td>\n",
              "      <td>I/O Timeout</td>\n",
              "      <td>I/O Timeout</td>\n",
              "      <td>I/O Timeout</td>\n",
              "      <td>NaN</td>\n",
              "      <td>NaN</td>\n",
              "    </tr>\n",
              "    <tr>\n",
              "      <th>322818</th>\n",
              "      <td>1/29/2020 21:15</td>\n",
              "      <td>I/O Timeout</td>\n",
              "      <td>I/O Timeout</td>\n",
              "      <td>I/O Timeout</td>\n",
              "      <td>I/O Timeout</td>\n",
              "      <td>I/O Timeout</td>\n",
              "      <td>I/O Timeout</td>\n",
              "      <td>NaN</td>\n",
              "      <td>NaN</td>\n",
              "    </tr>\n",
              "  </tbody>\n",
              "</table>\n",
              "<p>470 rows × 9 columns</p>\n",
              "</div>\n",
              "      <button class=\"colab-df-convert\" onclick=\"convertToInteractive('df-35e2c34f-11f4-4db5-ba86-0824da491d24')\"\n",
              "              title=\"Convert this dataframe to an interactive table.\"\n",
              "              style=\"display:none;\">\n",
              "        \n",
              "  <svg xmlns=\"http://www.w3.org/2000/svg\" height=\"24px\"viewBox=\"0 0 24 24\"\n",
              "       width=\"24px\">\n",
              "    <path d=\"M0 0h24v24H0V0z\" fill=\"none\"/>\n",
              "    <path d=\"M18.56 5.44l.94 2.06.94-2.06 2.06-.94-2.06-.94-.94-2.06-.94 2.06-2.06.94zm-11 1L8.5 8.5l.94-2.06 2.06-.94-2.06-.94L8.5 2.5l-.94 2.06-2.06.94zm10 10l.94 2.06.94-2.06 2.06-.94-2.06-.94-.94-2.06-.94 2.06-2.06.94z\"/><path d=\"M17.41 7.96l-1.37-1.37c-.4-.4-.92-.59-1.43-.59-.52 0-1.04.2-1.43.59L10.3 9.45l-7.72 7.72c-.78.78-.78 2.05 0 2.83L4 21.41c.39.39.9.59 1.41.59.51 0 1.02-.2 1.41-.59l7.78-7.78 2.81-2.81c.8-.78.8-2.07 0-2.86zM5.41 20L4 18.59l7.72-7.72 1.47 1.35L5.41 20z\"/>\n",
              "  </svg>\n",
              "      </button>\n",
              "      \n",
              "  <style>\n",
              "    .colab-df-container {\n",
              "      display:flex;\n",
              "      flex-wrap:wrap;\n",
              "      gap: 12px;\n",
              "    }\n",
              "\n",
              "    .colab-df-convert {\n",
              "      background-color: #E8F0FE;\n",
              "      border: none;\n",
              "      border-radius: 50%;\n",
              "      cursor: pointer;\n",
              "      display: none;\n",
              "      fill: #1967D2;\n",
              "      height: 32px;\n",
              "      padding: 0 0 0 0;\n",
              "      width: 32px;\n",
              "    }\n",
              "\n",
              "    .colab-df-convert:hover {\n",
              "      background-color: #E2EBFA;\n",
              "      box-shadow: 0px 1px 2px rgba(60, 64, 67, 0.3), 0px 1px 3px 1px rgba(60, 64, 67, 0.15);\n",
              "      fill: #174EA6;\n",
              "    }\n",
              "\n",
              "    [theme=dark] .colab-df-convert {\n",
              "      background-color: #3B4455;\n",
              "      fill: #D2E3FC;\n",
              "    }\n",
              "\n",
              "    [theme=dark] .colab-df-convert:hover {\n",
              "      background-color: #434B5C;\n",
              "      box-shadow: 0px 1px 3px 1px rgba(0, 0, 0, 0.15);\n",
              "      filter: drop-shadow(0px 1px 2px rgba(0, 0, 0, 0.3));\n",
              "      fill: #FFFFFF;\n",
              "    }\n",
              "  </style>\n",
              "\n",
              "      <script>\n",
              "        const buttonEl =\n",
              "          document.querySelector('#df-35e2c34f-11f4-4db5-ba86-0824da491d24 button.colab-df-convert');\n",
              "        buttonEl.style.display =\n",
              "          google.colab.kernel.accessAllowed ? 'block' : 'none';\n",
              "\n",
              "        async function convertToInteractive(key) {\n",
              "          const element = document.querySelector('#df-35e2c34f-11f4-4db5-ba86-0824da491d24');\n",
              "          const dataTable =\n",
              "            await google.colab.kernel.invokeFunction('convertToInteractive',\n",
              "                                                     [key], {});\n",
              "          if (!dataTable) return;\n",
              "\n",
              "          const docLinkHtml = 'Like what you see? Visit the ' +\n",
              "            '<a target=\"_blank\" href=https://colab.research.google.com/notebooks/data_table.ipynb>data table notebook</a>'\n",
              "            + ' to learn more about interactive tables.';\n",
              "          element.innerHTML = '';\n",
              "          dataTable['output_type'] = 'display_data';\n",
              "          await google.colab.output.renderOutput(dataTable, element);\n",
              "          const docLink = document.createElement('div');\n",
              "          docLink.innerHTML = docLinkHtml;\n",
              "          element.appendChild(docLink);\n",
              "        }\n",
              "      </script>\n",
              "    </div>\n",
              "  </div>\n",
              "  "
            ]
          },
          "metadata": {},
          "execution_count": 77
        }
      ]
    },
    {
      "cell_type": "code",
      "source": [
        "df.loc[df['Cyclone_Material_Temp'] == \"I/O Timeout\"].replace('I/O Timeout','1',inplace=True)"
      ],
      "metadata": {
        "colab": {
          "base_uri": "https://localhost:8080/"
        },
        "id": "aVIRH4a7G1o3",
        "outputId": "e3d91c30-502a-49ca-d6a9-d480d17f163e"
      },
      "execution_count": null,
      "outputs": [
        {
          "output_type": "stream",
          "name": "stderr",
          "text": [
            "/usr/local/lib/python3.7/dist-packages/pandas/core/frame.py:5244: SettingWithCopyWarning: \n",
            "A value is trying to be set on a copy of a slice from a DataFrame\n",
            "\n",
            "See the caveats in the documentation: https://pandas.pydata.org/pandas-docs/stable/user_guide/indexing.html#returning-a-view-versus-a-copy\n",
            "  method=method,\n"
          ]
        }
      ]
    },
    {
      "cell_type": "code",
      "source": [
        "#df.loc[df['Cyclone_Material_Temp'] == \"Unit Down\"]\n",
        "\n",
        "df.loc[df['Cyclone_Inlet_Gas_Temp'] == \"I/O Timeout\"]"
      ],
      "metadata": {
        "colab": {
          "base_uri": "https://localhost:8080/",
          "height": 679
        },
        "id": "zZkswmY9Ha-y",
        "outputId": "34b532a1-c7c8-4ca6-dbbc-514d444dd82d"
      },
      "execution_count": null,
      "outputs": [
        {
          "output_type": "execute_result",
          "data": {
            "text/plain": [
              "                   time Cyclone_Inlet_Gas_Temp Cyclone_Material_Temp  \\\n",
              "2471     1/9/2017 13:55            I/O Timeout           I/O Timeout   \n",
              "2472     1/9/2017 14:00            I/O Timeout           I/O Timeout   \n",
              "2473     1/9/2017 14:05            I/O Timeout           I/O Timeout   \n",
              "2474     1/9/2017 14:10            I/O Timeout           I/O Timeout   \n",
              "2475     1/9/2017 14:15            I/O Timeout           I/O Timeout   \n",
              "...                 ...                    ...                   ...   \n",
              "322814  1/29/2020 20:55            I/O Timeout           I/O Timeout   \n",
              "322815  1/29/2020 21:00            I/O Timeout           I/O Timeout   \n",
              "322816  1/29/2020 21:05            I/O Timeout           I/O Timeout   \n",
              "322817  1/29/2020 21:10            I/O Timeout           I/O Timeout   \n",
              "322818  1/29/2020 21:15            I/O Timeout           I/O Timeout   \n",
              "\n",
              "       Cyclone_Outlet_Gas_draft Cyclone_cone_draft Cyclone_Gas_Outlet_Temp  \\\n",
              "2471                I/O Timeout        I/O Timeout             I/O Timeout   \n",
              "2472                I/O Timeout        I/O Timeout             I/O Timeout   \n",
              "2473                I/O Timeout        I/O Timeout             I/O Timeout   \n",
              "2474                I/O Timeout        I/O Timeout             I/O Timeout   \n",
              "2475                I/O Timeout        I/O Timeout             I/O Timeout   \n",
              "...                         ...                ...                     ...   \n",
              "322814              I/O Timeout        I/O Timeout             I/O Timeout   \n",
              "322815              I/O Timeout        I/O Timeout             I/O Timeout   \n",
              "322816              I/O Timeout        I/O Timeout             I/O Timeout   \n",
              "322817              I/O Timeout        I/O Timeout             I/O Timeout   \n",
              "322818              I/O Timeout        I/O Timeout             I/O Timeout   \n",
              "\n",
              "       Cyclone_Inlet_Draft  Unnamed: 7   TEST  \n",
              "2471           I/O Timeout         NaN  False  \n",
              "2472           I/O Timeout         NaN  False  \n",
              "2473           I/O Timeout         NaN  False  \n",
              "2474           I/O Timeout         NaN  False  \n",
              "2475           I/O Timeout         NaN  False  \n",
              "...                    ...         ...    ...  \n",
              "322814         I/O Timeout         NaN    NaN  \n",
              "322815         I/O Timeout         NaN    NaN  \n",
              "322816         I/O Timeout         NaN    NaN  \n",
              "322817         I/O Timeout         NaN    NaN  \n",
              "322818         I/O Timeout         NaN    NaN  \n",
              "\n",
              "[470 rows x 9 columns]"
            ],
            "text/html": [
              "\n",
              "  <div id=\"df-e6cec9c6-f612-4270-9dd6-35be6e0e8e3b\">\n",
              "    <div class=\"colab-df-container\">\n",
              "      <div>\n",
              "<style scoped>\n",
              "    .dataframe tbody tr th:only-of-type {\n",
              "        vertical-align: middle;\n",
              "    }\n",
              "\n",
              "    .dataframe tbody tr th {\n",
              "        vertical-align: top;\n",
              "    }\n",
              "\n",
              "    .dataframe thead th {\n",
              "        text-align: right;\n",
              "    }\n",
              "</style>\n",
              "<table border=\"1\" class=\"dataframe\">\n",
              "  <thead>\n",
              "    <tr style=\"text-align: right;\">\n",
              "      <th></th>\n",
              "      <th>time</th>\n",
              "      <th>Cyclone_Inlet_Gas_Temp</th>\n",
              "      <th>Cyclone_Material_Temp</th>\n",
              "      <th>Cyclone_Outlet_Gas_draft</th>\n",
              "      <th>Cyclone_cone_draft</th>\n",
              "      <th>Cyclone_Gas_Outlet_Temp</th>\n",
              "      <th>Cyclone_Inlet_Draft</th>\n",
              "      <th>Unnamed: 7</th>\n",
              "      <th>TEST</th>\n",
              "    </tr>\n",
              "  </thead>\n",
              "  <tbody>\n",
              "    <tr>\n",
              "      <th>2471</th>\n",
              "      <td>1/9/2017 13:55</td>\n",
              "      <td>I/O Timeout</td>\n",
              "      <td>I/O Timeout</td>\n",
              "      <td>I/O Timeout</td>\n",
              "      <td>I/O Timeout</td>\n",
              "      <td>I/O Timeout</td>\n",
              "      <td>I/O Timeout</td>\n",
              "      <td>NaN</td>\n",
              "      <td>False</td>\n",
              "    </tr>\n",
              "    <tr>\n",
              "      <th>2472</th>\n",
              "      <td>1/9/2017 14:00</td>\n",
              "      <td>I/O Timeout</td>\n",
              "      <td>I/O Timeout</td>\n",
              "      <td>I/O Timeout</td>\n",
              "      <td>I/O Timeout</td>\n",
              "      <td>I/O Timeout</td>\n",
              "      <td>I/O Timeout</td>\n",
              "      <td>NaN</td>\n",
              "      <td>False</td>\n",
              "    </tr>\n",
              "    <tr>\n",
              "      <th>2473</th>\n",
              "      <td>1/9/2017 14:05</td>\n",
              "      <td>I/O Timeout</td>\n",
              "      <td>I/O Timeout</td>\n",
              "      <td>I/O Timeout</td>\n",
              "      <td>I/O Timeout</td>\n",
              "      <td>I/O Timeout</td>\n",
              "      <td>I/O Timeout</td>\n",
              "      <td>NaN</td>\n",
              "      <td>False</td>\n",
              "    </tr>\n",
              "    <tr>\n",
              "      <th>2474</th>\n",
              "      <td>1/9/2017 14:10</td>\n",
              "      <td>I/O Timeout</td>\n",
              "      <td>I/O Timeout</td>\n",
              "      <td>I/O Timeout</td>\n",
              "      <td>I/O Timeout</td>\n",
              "      <td>I/O Timeout</td>\n",
              "      <td>I/O Timeout</td>\n",
              "      <td>NaN</td>\n",
              "      <td>False</td>\n",
              "    </tr>\n",
              "    <tr>\n",
              "      <th>2475</th>\n",
              "      <td>1/9/2017 14:15</td>\n",
              "      <td>I/O Timeout</td>\n",
              "      <td>I/O Timeout</td>\n",
              "      <td>I/O Timeout</td>\n",
              "      <td>I/O Timeout</td>\n",
              "      <td>I/O Timeout</td>\n",
              "      <td>I/O Timeout</td>\n",
              "      <td>NaN</td>\n",
              "      <td>False</td>\n",
              "    </tr>\n",
              "    <tr>\n",
              "      <th>...</th>\n",
              "      <td>...</td>\n",
              "      <td>...</td>\n",
              "      <td>...</td>\n",
              "      <td>...</td>\n",
              "      <td>...</td>\n",
              "      <td>...</td>\n",
              "      <td>...</td>\n",
              "      <td>...</td>\n",
              "      <td>...</td>\n",
              "    </tr>\n",
              "    <tr>\n",
              "      <th>322814</th>\n",
              "      <td>1/29/2020 20:55</td>\n",
              "      <td>I/O Timeout</td>\n",
              "      <td>I/O Timeout</td>\n",
              "      <td>I/O Timeout</td>\n",
              "      <td>I/O Timeout</td>\n",
              "      <td>I/O Timeout</td>\n",
              "      <td>I/O Timeout</td>\n",
              "      <td>NaN</td>\n",
              "      <td>NaN</td>\n",
              "    </tr>\n",
              "    <tr>\n",
              "      <th>322815</th>\n",
              "      <td>1/29/2020 21:00</td>\n",
              "      <td>I/O Timeout</td>\n",
              "      <td>I/O Timeout</td>\n",
              "      <td>I/O Timeout</td>\n",
              "      <td>I/O Timeout</td>\n",
              "      <td>I/O Timeout</td>\n",
              "      <td>I/O Timeout</td>\n",
              "      <td>NaN</td>\n",
              "      <td>NaN</td>\n",
              "    </tr>\n",
              "    <tr>\n",
              "      <th>322816</th>\n",
              "      <td>1/29/2020 21:05</td>\n",
              "      <td>I/O Timeout</td>\n",
              "      <td>I/O Timeout</td>\n",
              "      <td>I/O Timeout</td>\n",
              "      <td>I/O Timeout</td>\n",
              "      <td>I/O Timeout</td>\n",
              "      <td>I/O Timeout</td>\n",
              "      <td>NaN</td>\n",
              "      <td>NaN</td>\n",
              "    </tr>\n",
              "    <tr>\n",
              "      <th>322817</th>\n",
              "      <td>1/29/2020 21:10</td>\n",
              "      <td>I/O Timeout</td>\n",
              "      <td>I/O Timeout</td>\n",
              "      <td>I/O Timeout</td>\n",
              "      <td>I/O Timeout</td>\n",
              "      <td>I/O Timeout</td>\n",
              "      <td>I/O Timeout</td>\n",
              "      <td>NaN</td>\n",
              "      <td>NaN</td>\n",
              "    </tr>\n",
              "    <tr>\n",
              "      <th>322818</th>\n",
              "      <td>1/29/2020 21:15</td>\n",
              "      <td>I/O Timeout</td>\n",
              "      <td>I/O Timeout</td>\n",
              "      <td>I/O Timeout</td>\n",
              "      <td>I/O Timeout</td>\n",
              "      <td>I/O Timeout</td>\n",
              "      <td>I/O Timeout</td>\n",
              "      <td>NaN</td>\n",
              "      <td>NaN</td>\n",
              "    </tr>\n",
              "  </tbody>\n",
              "</table>\n",
              "<p>470 rows × 9 columns</p>\n",
              "</div>\n",
              "      <button class=\"colab-df-convert\" onclick=\"convertToInteractive('df-e6cec9c6-f612-4270-9dd6-35be6e0e8e3b')\"\n",
              "              title=\"Convert this dataframe to an interactive table.\"\n",
              "              style=\"display:none;\">\n",
              "        \n",
              "  <svg xmlns=\"http://www.w3.org/2000/svg\" height=\"24px\"viewBox=\"0 0 24 24\"\n",
              "       width=\"24px\">\n",
              "    <path d=\"M0 0h24v24H0V0z\" fill=\"none\"/>\n",
              "    <path d=\"M18.56 5.44l.94 2.06.94-2.06 2.06-.94-2.06-.94-.94-2.06-.94 2.06-2.06.94zm-11 1L8.5 8.5l.94-2.06 2.06-.94-2.06-.94L8.5 2.5l-.94 2.06-2.06.94zm10 10l.94 2.06.94-2.06 2.06-.94-2.06-.94-.94-2.06-.94 2.06-2.06.94z\"/><path d=\"M17.41 7.96l-1.37-1.37c-.4-.4-.92-.59-1.43-.59-.52 0-1.04.2-1.43.59L10.3 9.45l-7.72 7.72c-.78.78-.78 2.05 0 2.83L4 21.41c.39.39.9.59 1.41.59.51 0 1.02-.2 1.41-.59l7.78-7.78 2.81-2.81c.8-.78.8-2.07 0-2.86zM5.41 20L4 18.59l7.72-7.72 1.47 1.35L5.41 20z\"/>\n",
              "  </svg>\n",
              "      </button>\n",
              "      \n",
              "  <style>\n",
              "    .colab-df-container {\n",
              "      display:flex;\n",
              "      flex-wrap:wrap;\n",
              "      gap: 12px;\n",
              "    }\n",
              "\n",
              "    .colab-df-convert {\n",
              "      background-color: #E8F0FE;\n",
              "      border: none;\n",
              "      border-radius: 50%;\n",
              "      cursor: pointer;\n",
              "      display: none;\n",
              "      fill: #1967D2;\n",
              "      height: 32px;\n",
              "      padding: 0 0 0 0;\n",
              "      width: 32px;\n",
              "    }\n",
              "\n",
              "    .colab-df-convert:hover {\n",
              "      background-color: #E2EBFA;\n",
              "      box-shadow: 0px 1px 2px rgba(60, 64, 67, 0.3), 0px 1px 3px 1px rgba(60, 64, 67, 0.15);\n",
              "      fill: #174EA6;\n",
              "    }\n",
              "\n",
              "    [theme=dark] .colab-df-convert {\n",
              "      background-color: #3B4455;\n",
              "      fill: #D2E3FC;\n",
              "    }\n",
              "\n",
              "    [theme=dark] .colab-df-convert:hover {\n",
              "      background-color: #434B5C;\n",
              "      box-shadow: 0px 1px 3px 1px rgba(0, 0, 0, 0.15);\n",
              "      filter: drop-shadow(0px 1px 2px rgba(0, 0, 0, 0.3));\n",
              "      fill: #FFFFFF;\n",
              "    }\n",
              "  </style>\n",
              "\n",
              "      <script>\n",
              "        const buttonEl =\n",
              "          document.querySelector('#df-e6cec9c6-f612-4270-9dd6-35be6e0e8e3b button.colab-df-convert');\n",
              "        buttonEl.style.display =\n",
              "          google.colab.kernel.accessAllowed ? 'block' : 'none';\n",
              "\n",
              "        async function convertToInteractive(key) {\n",
              "          const element = document.querySelector('#df-e6cec9c6-f612-4270-9dd6-35be6e0e8e3b');\n",
              "          const dataTable =\n",
              "            await google.colab.kernel.invokeFunction('convertToInteractive',\n",
              "                                                     [key], {});\n",
              "          if (!dataTable) return;\n",
              "\n",
              "          const docLinkHtml = 'Like what you see? Visit the ' +\n",
              "            '<a target=\"_blank\" href=https://colab.research.google.com/notebooks/data_table.ipynb>data table notebook</a>'\n",
              "            + ' to learn more about interactive tables.';\n",
              "          element.innerHTML = '';\n",
              "          dataTable['output_type'] = 'display_data';\n",
              "          await google.colab.output.renderOutput(dataTable, element);\n",
              "          const docLink = document.createElement('div');\n",
              "          docLink.innerHTML = docLinkHtml;\n",
              "          element.appendChild(docLink);\n",
              "        }\n",
              "      </script>\n",
              "    </div>\n",
              "  </div>\n",
              "  "
            ]
          },
          "metadata": {},
          "execution_count": 79
        }
      ]
    },
    {
      "cell_type": "code",
      "source": [
        "#Cyclone_Inlet_Gas_Temp\n",
        "#df.loc[df['Cyclone_Material_Temp'] == \"Unit Down\"].replace('Unit Down','',inplace=True)\n",
        "df[\"Cyclone_Material_Temp\"].replace({\"Unit Down\": \"9999\", \"I/O Timeout\": \"9999\",\"Not Connect\":\"9999\",\"Scan Timeout\":\"9999\",\n",
        "                                     \"Configure\":\"9999\",\"Comm Fail\":\"9999\"}, inplace=True)"
      ],
      "metadata": {
        "id": "VO3neCmoHjV0"
      },
      "execution_count": null,
      "outputs": []
    },
    {
      "cell_type": "code",
      "source": [
        "#pd.to_numeric(df['Cyclone_Inlet_Gas_Temp'],I/O Timeout='float')\n",
        "pd.to_numeric(df[\"Cyclone_Material_Temp\"], downcast='float')"
      ],
      "metadata": {
        "colab": {
          "base_uri": "https://localhost:8080/"
        },
        "id": "EmdpYmr3HwEi",
        "outputId": "ec7c2134-b1ef-41ef-a249-6747d6503739"
      },
      "execution_count": null,
      "outputs": [
        {
          "output_type": "execute_result",
          "data": {
            "text/plain": [
              "0         910.419983\n",
              "1         918.140015\n",
              "2         924.179993\n",
              "3         923.150024\n",
              "4         934.260010\n",
              "             ...    \n",
              "377714    919.789978\n",
              "377715    895.020020\n",
              "377716    895.700012\n",
              "377717    916.330017\n",
              "377718    905.309998\n",
              "Name: Cyclone_Material_Temp, Length: 377719, dtype: float32"
            ]
          },
          "metadata": {},
          "execution_count": 81
        }
      ]
    },
    {
      "cell_type": "code",
      "source": [
        "#Cyclone_Material_Temp \n",
        "\n",
        "df[\"Cyclone_Inlet_Gas_Temp\"].replace({\"Unit Down\": \"9999\", \"I/O Timeout\": \"9999\",\"Not Connect\":\"9999\",\"Scan Timeout\":\"9999\",\n",
        "                                     \"Configure\":\"9999\",\"Comm Fail\":\"9999\"}, inplace=True)"
      ],
      "metadata": {
        "id": "-iawpnXRH1Gw"
      },
      "execution_count": null,
      "outputs": []
    },
    {
      "cell_type": "code",
      "source": [
        "pd.to_numeric(df[\"Cyclone_Inlet_Gas_Temp\"], downcast='float')"
      ],
      "metadata": {
        "colab": {
          "base_uri": "https://localhost:8080/"
        },
        "id": "x-veB-gOH6lg",
        "outputId": "95f18291-bd6b-4c54-cdbc-22c7c0d7d6c9"
      },
      "execution_count": null,
      "outputs": [
        {
          "output_type": "execute_result",
          "data": {
            "text/plain": [
              "0         867.630005\n",
              "1         879.229980\n",
              "2         875.669983\n",
              "3         875.280029\n",
              "4         891.659973\n",
              "             ...    \n",
              "377714    899.419983\n",
              "377715    879.900024\n",
              "377716    887.200012\n",
              "377717    908.500000\n",
              "377718    880.859985\n",
              "Name: Cyclone_Inlet_Gas_Temp, Length: 377719, dtype: float32"
            ]
          },
          "metadata": {},
          "execution_count": 83
        }
      ]
    },
    {
      "cell_type": "code",
      "source": [
        "#Cyclone_Outlet_Gas_draft \n",
        "df[\"Cyclone_Outlet_Gas_draft\"].replace({\"Unit Down\": \"9999\", \"I/O Timeout\": \"9999\",\"Not Connect\":\"9999\",\"Scan Timeout\":\"9999\",\n",
        "                                     \"Configure\":\"9999\",\"Comm Fail\":\"9999\"}, inplace=True)"
      ],
      "metadata": {
        "id": "xKY-Tm_dH9O0"
      },
      "execution_count": null,
      "outputs": []
    },
    {
      "cell_type": "code",
      "source": [
        "pd.to_numeric(df[\"Cyclone_Outlet_Gas_draft\"], downcast='float')"
      ],
      "metadata": {
        "colab": {
          "base_uri": "https://localhost:8080/"
        },
        "id": "OnXwIkAEIBpI",
        "outputId": "ad0d449c-66dc-4593-8061-35926562d04d"
      },
      "execution_count": null,
      "outputs": [
        {
          "output_type": "execute_result",
          "data": {
            "text/plain": [
              "0        -189.539993\n",
              "1        -184.330002\n",
              "2        -181.259995\n",
              "3        -179.149994\n",
              "4        -178.320007\n",
              "             ...    \n",
              "377714   -224.070007\n",
              "377715   -228.039993\n",
              "377716   -230.110001\n",
              "377717   -231.509995\n",
              "377718   -235.020004\n",
              "Name: Cyclone_Outlet_Gas_draft, Length: 377719, dtype: float32"
            ]
          },
          "metadata": {},
          "execution_count": 85
        }
      ]
    },
    {
      "cell_type": "code",
      "source": [
        "#Cyclone_cone_draft \n",
        "df[\"Cyclone_cone_draft\"].replace({\"Unit Down\": \"9999\", \"I/O Timeout\": \"9999\",\"Not Connect\":\"9999\",\"Scan Timeout\":\"9999\",\n",
        "                                     \"Configure\":\"9999\",\"Comm Fail\":\"9999\"}, inplace=True)"
      ],
      "metadata": {
        "id": "kGusbQgEIEYi"
      },
      "execution_count": null,
      "outputs": []
    },
    {
      "cell_type": "code",
      "source": [
        "pd.to_numeric(df[\"Cyclone_cone_draft\"], downcast='float')"
      ],
      "metadata": {
        "colab": {
          "base_uri": "https://localhost:8080/"
        },
        "id": "mmaNtXH4II0N",
        "outputId": "867d4c5d-a54f-4b35-d59e-178e0373d61b"
      },
      "execution_count": null,
      "outputs": [
        {
          "output_type": "execute_result",
          "data": {
            "text/plain": [
              "0        -186.039993\n",
              "1        -182.100006\n",
              "2        -166.470001\n",
              "3        -174.830002\n",
              "4        -173.720001\n",
              "             ...    \n",
              "377714   -209.770004\n",
              "377715   -211.279999\n",
              "377716   -214.649994\n",
              "377717   -218.089996\n",
              "377718   -219.440002\n",
              "Name: Cyclone_cone_draft, Length: 377719, dtype: float32"
            ]
          },
          "metadata": {},
          "execution_count": 87
        }
      ]
    },
    {
      "cell_type": "code",
      "source": [
        "#Cyclone_Gas_Outlet_Temp \n",
        "df[\"Cyclone_Gas_Outlet_Temp\"].replace({\"Unit Down\": \"9999\", \"I/O Timeout\": \"9999\",\"Not Connect\":\"9999\",\"Scan Timeout\":\"9999\",\n",
        "                                     \"Configure\":\"9999\",\"Comm Fail\":\"9999\"}, inplace=True)"
      ],
      "metadata": {
        "id": "HLHssLBVIMSH"
      },
      "execution_count": null,
      "outputs": []
    },
    {
      "cell_type": "code",
      "source": [
        "pd.to_numeric(df[\"Cyclone_Gas_Outlet_Temp\"], downcast='float')"
      ],
      "metadata": {
        "colab": {
          "base_uri": "https://localhost:8080/"
        },
        "id": "D8AsoJ3JIR4R",
        "outputId": "0f2f598a-b6f8-4902-8f72-05e67ae1b03c"
      },
      "execution_count": null,
      "outputs": [
        {
          "output_type": "execute_result",
          "data": {
            "text/plain": [
              "0         852.130005\n",
              "1         862.530029\n",
              "2         866.059998\n",
              "3         865.849976\n",
              "4         876.059998\n",
              "             ...    \n",
              "377714    901.010010\n",
              "377715    878.080017\n",
              "377716    885.320007\n",
              "377717    906.200012\n",
              "377718    882.099976\n",
              "Name: Cyclone_Gas_Outlet_Temp, Length: 377719, dtype: float32"
            ]
          },
          "metadata": {},
          "execution_count": 89
        }
      ]
    },
    {
      "cell_type": "code",
      "source": [
        "#Cyclone_Inlet_Draft\n",
        "df[\"Cyclone_Inlet_Draft\"].replace({\"Unit Down\": \"9999\", \"I/O Timeout\": \"9999\",\"Not Connect\":\"9999\",\"Scan Timeout\":\"9999\",\n",
        "                                     \"Configure\":\"9999\",\"Comm Fail\":\"9999\"}, inplace=True)"
      ],
      "metadata": {
        "id": "OKOUbiyEIUep"
      },
      "execution_count": null,
      "outputs": []
    },
    {
      "cell_type": "code",
      "source": [
        "pd.to_numeric(df[\"Cyclone_Inlet_Draft\"], downcast='float')"
      ],
      "metadata": {
        "colab": {
          "base_uri": "https://localhost:8080/"
        },
        "id": "aFytdVagIwx6",
        "outputId": "1f49b015-96a2-46bb-c227-7cfd7155b612"
      },
      "execution_count": null,
      "outputs": [
        {
          "output_type": "execute_result",
          "data": {
            "text/plain": [
              "0        -145.899994\n",
              "1        -149.759995\n",
              "2        -145.009995\n",
              "3        -142.820007\n",
              "4        -143.389999\n",
              "             ...    \n",
              "377714   -175.149994\n",
              "377715   -176.940002\n",
              "377716   -179.179993\n",
              "377717   -181.960007\n",
              "377718   -184.020004\n",
              "Name: Cyclone_Inlet_Draft, Length: 377719, dtype: float32"
            ]
          },
          "metadata": {},
          "execution_count": 91
        }
      ]
    },
    {
      "cell_type": "code",
      "source": [
        "df.columns"
      ],
      "metadata": {
        "colab": {
          "base_uri": "https://localhost:8080/"
        },
        "id": "I5vLT8BrOOxm",
        "outputId": "9f7780f3-a06d-4c55-cc40-d9c2f986abca"
      },
      "execution_count": null,
      "outputs": [
        {
          "output_type": "execute_result",
          "data": {
            "text/plain": [
              "Index(['time', 'Cyclone_Inlet_Gas_Temp', 'Cyclone_Material_Temp',\n",
              "       'Cyclone_Outlet_Gas_draft', 'Cyclone_cone_draft',\n",
              "       'Cyclone_Gas_Outlet_Temp', 'Cyclone_Inlet_Draft', 'Unnamed: 7', 'TEST'],\n",
              "      dtype='object')"
            ]
          },
          "metadata": {},
          "execution_count": 92
        }
      ]
    },
    {
      "cell_type": "code",
      "source": [
        "df1=df[df['time']=='Cyclone_Inlet_Gas_Temp']\n",
        "df2=df[df['time']=='Cyclone_Material_Temp']\n",
        "df3=df[df['time']=='Cyclone_Outlet_Gas_draft']\n",
        "df4=df[df['time']=='Cyclone_cone_draft']\n",
        "df5=df[df['time']=='Cyclone_Gas_Outlet_Temp']\n",
        "df6=df[df['time']=='Cyclone_Inlet_Draft']\n",
        "\n"
      ],
      "metadata": {
        "id": "KXs-JvOII0OE"
      },
      "execution_count": null,
      "outputs": []
    },
    {
      "cell_type": "code",
      "source": [
        "plt.scatter(df1['Cyclone_Inlet_Gas_Temp'],df1['Cyclone_Material_Temp'],color='blue',marker='*')\n",
        "plt.scatter(df2['Cyclone_Inlet_Gas_Temp'],df2['Cyclone_Material_Temp'],color='red',marker='.')\n",
        "plt.xlabel('Cyclone_Inlet_Gas_Temp')\n",
        "plt.ylabel('Cyclone_Material_Temp')\n",
        "plt.show()"
      ],
      "metadata": {
        "colab": {
          "base_uri": "https://localhost:8080/",
          "height": 280
        },
        "id": "ciQA8bJZI9oC",
        "outputId": "9765d3a2-3d1e-4a0f-ef0d-c92721af7c1a"
      },
      "execution_count": null,
      "outputs": [
        {
          "output_type": "display_data",
          "data": {
            "text/plain": [
              "<Figure size 432x288 with 1 Axes>"
            ],
            "image/png": "[encoded data removed]"
          },
          "metadata": {
            "needs_background": "light"
          }
        }
      ]
    },
    {
      "cell_type": "code",
      "source": [
        "df.head(3)"
      ],
      "metadata": {
        "colab": {
          "base_uri": "https://localhost:8080/",
          "height": 277
        },
        "id": "qs3BVk4fQ1tV",
        "outputId": "490af3b2-02ac-46d3-8f5a-04d931a0da1a"
      },
      "execution_count": null,
      "outputs": [
        {
          "output_type": "execute_result",
          "data": {
            "text/plain": [
              "            time Cyclone_Inlet_Gas_Temp Cyclone_Material_Temp  \\\n",
              "0  1/1/2017 0:00                 867.63                910.42   \n",
              "1  1/1/2017 0:05                 879.23                918.14   \n",
              "2  1/1/2017 0:10                 875.67                924.18   \n",
              "\n",
              "  Cyclone_Outlet_Gas_draft Cyclone_cone_draft Cyclone_Gas_Outlet_Temp  \\\n",
              "0                  -189.54            -186.04                  852.13   \n",
              "1                  -184.33             -182.1                  862.53   \n",
              "2                  -181.26            -166.47                  866.06   \n",
              "\n",
              "  Cyclone_Inlet_Draft  Unnamed: 7  TEST  \n",
              "0              -145.9         NaN  True  \n",
              "1             -149.76         NaN  True  \n",
              "2             -145.01         NaN  True  "
            ],
            "text/html": [
              "\n",
              "  <div id=\"df-1f8ee09c-0359-415e-b776-29697a3cfb73\">\n",
              "    <div class=\"colab-df-container\">\n",
              "      <div>\n",
              "<style scoped>\n",
              "    .dataframe tbody tr th:only-of-type {\n",
              "        vertical-align: middle;\n",
              "    }\n",
              "\n",
              "    .dataframe tbody tr th {\n",
              "        vertical-align: top;\n",
              "    }\n",
              "\n",
              "    .dataframe thead th {\n",
              "        text-align: right;\n",
              "    }\n",
              "</style>\n",
              "<table border=\"1\" class=\"dataframe\">\n",
              "  <thead>\n",
              "    <tr style=\"text-align: right;\">\n",
              "      <th></th>\n",
              "      <th>time</th>\n",
              "      <th>Cyclone_Inlet_Gas_Temp</th>\n",
              "      <th>Cyclone_Material_Temp</th>\n",
              "      <th>Cyclone_Outlet_Gas_draft</th>\n",
              "      <th>Cyclone_cone_draft</th>\n",
              "      <th>Cyclone_Gas_Outlet_Temp</th>\n",
              "      <th>Cyclone_Inlet_Draft</th>\n",
              "      <th>Unnamed: 7</th>\n",
              "      <th>TEST</th>\n",
              "    </tr>\n",
              "  </thead>\n",
              "  <tbody>\n",
              "    <tr>\n",
              "      <th>0</th>\n",
              "      <td>1/1/2017 0:00</td>\n",
              "      <td>867.63</td>\n",
              "      <td>910.42</td>\n",
              "      <td>-189.54</td>\n",
              "      <td>-186.04</td>\n",
              "      <td>852.13</td>\n",
              "      <td>-145.9</td>\n",
              "      <td>NaN</td>\n",
              "      <td>True</td>\n",
              "    </tr>\n",
              "    <tr>\n",
              "      <th>1</th>\n",
              "      <td>1/1/2017 0:05</td>\n",
              "      <td>879.23</td>\n",
              "      <td>918.14</td>\n",
              "      <td>-184.33</td>\n",
              "      <td>-182.1</td>\n",
              "      <td>862.53</td>\n",
              "      <td>-149.76</td>\n",
              "      <td>NaN</td>\n",
              "      <td>True</td>\n",
              "    </tr>\n",
              "    <tr>\n",
              "      <th>2</th>\n",
              "      <td>1/1/2017 0:10</td>\n",
              "      <td>875.67</td>\n",
              "      <td>924.18</td>\n",
              "      <td>-181.26</td>\n",
              "      <td>-166.47</td>\n",
              "      <td>866.06</td>\n",
              "      <td>-145.01</td>\n",
              "      <td>NaN</td>\n",
              "      <td>True</td>\n",
              "    </tr>\n",
              "  </tbody>\n",
              "</table>\n",
              "</div>\n",
              "      <button class=\"colab-df-convert\" onclick=\"convertToInteractive('df-1f8ee09c-0359-415e-b776-29697a3cfb73')\"\n",
              "              title=\"Convert this dataframe to an interactive table.\"\n",
              "              style=\"display:none;\">\n",
              "        \n",
              "  <svg xmlns=\"http://www.w3.org/2000/svg\" height=\"24px\"viewBox=\"0 0 24 24\"\n",
              "       width=\"24px\">\n",
              "    <path d=\"M0 0h24v24H0V0z\" fill=\"none\"/>\n",
              "    <path d=\"M18.56 5.44l.94 2.06.94-2.06 2.06-.94-2.06-.94-.94-2.06-.94 2.06-2.06.94zm-11 1L8.5 8.5l.94-2.06 2.06-.94-2.06-.94L8.5 2.5l-.94 2.06-2.06.94zm10 10l.94 2.06.94-2.06 2.06-.94-2.06-.94-.94-2.06-.94 2.06-2.06.94z\"/><path d=\"M17.41 7.96l-1.37-1.37c-.4-.4-.92-.59-1.43-.59-.52 0-1.04.2-1.43.59L10.3 9.45l-7.72 7.72c-.78.78-.78 2.05 0 2.83L4 21.41c.39.39.9.59 1.41.59.51 0 1.02-.2 1.41-.59l7.78-7.78 2.81-2.81c.8-.78.8-2.07 0-2.86zM5.41 20L4 18.59l7.72-7.72 1.47 1.35L5.41 20z\"/>\n",
              "  </svg>\n",
              "      </button>\n",
              "      \n",
              "  <style>\n",
              "    .colab-df-container {\n",
              "      display:flex;\n",
              "      flex-wrap:wrap;\n",
              "      gap: 12px;\n",
              "    }\n",
              "\n",
              "    .colab-df-convert {\n",
              "      background-color: #E8F0FE;\n",
              "      border: none;\n",
              "      border-radius: 50%;\n",
              "      cursor: pointer;\n",
              "      display: none;\n",
              "      fill: #1967D2;\n",
              "      height: 32px;\n",
              "      padding: 0 0 0 0;\n",
              "      width: 32px;\n",
              "    }\n",
              "\n",
              "    .colab-df-convert:hover {\n",
              "      background-color: #E2EBFA;\n",
              "      box-shadow: 0px 1px 2px rgba(60, 64, 67, 0.3), 0px 1px 3px 1px rgba(60, 64, 67, 0.15);\n",
              "      fill: #174EA6;\n",
              "    }\n",
              "\n",
              "    [theme=dark] .colab-df-convert {\n",
              "      background-color: #3B4455;\n",
              "      fill: #D2E3FC;\n",
              "    }\n",
              "\n",
              "    [theme=dark] .colab-df-convert:hover {\n",
              "      background-color: #434B5C;\n",
              "      box-shadow: 0px 1px 3px 1px rgba(0, 0, 0, 0.15);\n",
              "      filter: drop-shadow(0px 1px 2px rgba(0, 0, 0, 0.3));\n",
              "      fill: #FFFFFF;\n",
              "    }\n",
              "  </style>\n",
              "\n",
              "      <script>\n",
              "        const buttonEl =\n",
              "          document.querySelector('#df-1f8ee09c-0359-415e-b776-29697a3cfb73 button.colab-df-convert');\n",
              "        buttonEl.style.display =\n",
              "          google.colab.kernel.accessAllowed ? 'block' : 'none';\n",
              "\n",
              "        async function convertToInteractive(key) {\n",
              "          const element = document.querySelector('#df-1f8ee09c-0359-415e-b776-29697a3cfb73');\n",
              "          const dataTable =\n",
              "            await google.colab.kernel.invokeFunction('convertToInteractive',\n",
              "                                                     [key], {});\n",
              "          if (!dataTable) return;\n",
              "\n",
              "          const docLinkHtml = 'Like what you see? Visit the ' +\n",
              "            '<a target=\"_blank\" href=https://colab.research.google.com/notebooks/data_table.ipynb>data table notebook</a>'\n",
              "            + ' to learn more about interactive tables.';\n",
              "          element.innerHTML = '';\n",
              "          dataTable['output_type'] = 'display_data';\n",
              "          await google.colab.output.renderOutput(dataTable, element);\n",
              "          const docLink = document.createElement('div');\n",
              "          docLink.innerHTML = docLinkHtml;\n",
              "          element.appendChild(docLink);\n",
              "        }\n",
              "      </script>\n",
              "    </div>\n",
              "  </div>\n",
              "  "
            ]
          },
          "metadata": {},
          "execution_count": 95
        }
      ]
    },
    {
      "cell_type": "code",
      "source": [
        "df['TEST'].unique()"
      ],
      "metadata": {
        "colab": {
          "base_uri": "https://localhost:8080/"
        },
        "id": "u93Z1wWpSRgX",
        "outputId": "ccfafc6d-2753-41c5-c280-e986c9a6ab98"
      },
      "execution_count": null,
      "outputs": [
        {
          "output_type": "execute_result",
          "data": {
            "text/plain": [
              "array([True, False, nan], dtype=object)"
            ]
          },
          "metadata": {},
          "execution_count": 96
        }
      ]
    },
    {
      "cell_type": "code",
      "source": [
        "df['TEST'].value_counts()"
      ],
      "metadata": {
        "colab": {
          "base_uri": "https://localhost:8080/"
        },
        "id": "3b25Okr9SmsA",
        "outputId": "5ffd5ca8-b05a-41f6-8bad-96e9d4fe3da4"
      },
      "execution_count": null,
      "outputs": [
        {
          "output_type": "execute_result",
          "data": {
            "text/plain": [
              "True     26350\n",
              "False       66\n",
              "Name: TEST, dtype: int64"
            ]
          },
          "metadata": {},
          "execution_count": 97
        }
      ]
    },
    {
      "cell_type": "code",
      "source": [
        "df_bkup=df.copy()"
      ],
      "metadata": {
        "id": "N3E_56mmTPwk"
      },
      "execution_count": null,
      "outputs": []
    },
    {
      "cell_type": "code",
      "source": [
        "df=df[['Cyclone_Inlet_Gas_Temp', 'Cyclone_Material_Temp',\n",
        "       'Cyclone_Outlet_Gas_draft', 'Cyclone_cone_draft',\n",
        "       'Cyclone_Gas_Outlet_Temp', 'Cyclone_Inlet_Draft']]"
      ],
      "metadata": {
        "id": "5izFFL2TUAtq"
      },
      "execution_count": null,
      "outputs": []
    },
    {
      "cell_type": "code",
      "source": [
        "df.head(3)"
      ],
      "metadata": {
        "colab": {
          "base_uri": "https://localhost:8080/",
          "height": 143
        },
        "id": "6ZYI5vkDUfo7",
        "outputId": "8ae66210-cc1c-4a39-d160-05e6e31c86a2"
      },
      "execution_count": null,
      "outputs": [
        {
          "output_type": "execute_result",
          "data": {
            "text/plain": [
              "  Cyclone_Inlet_Gas_Temp Cyclone_Material_Temp Cyclone_Outlet_Gas_draft  \\\n",
              "0                 867.63                910.42                  -189.54   \n",
              "1                 879.23                918.14                  -184.33   \n",
              "2                 875.67                924.18                  -181.26   \n",
              "\n",
              "  Cyclone_cone_draft Cyclone_Gas_Outlet_Temp Cyclone_Inlet_Draft  \n",
              "0            -186.04                  852.13              -145.9  \n",
              "1             -182.1                  862.53             -149.76  \n",
              "2            -166.47                  866.06             -145.01  "
            ],
            "text/html": [
              "\n",
              "  <div id=\"df-ee257eaf-d38b-427a-b85f-9ce8daca1709\">\n",
              "    <div class=\"colab-df-container\">\n",
              "      <div>\n",
              "<style scoped>\n",
              "    .dataframe tbody tr th:only-of-type {\n",
              "        vertical-align: middle;\n",
              "    }\n",
              "\n",
              "    .dataframe tbody tr th {\n",
              "        vertical-align: top;\n",
              "    }\n",
              "\n",
              "    .dataframe thead th {\n",
              "        text-align: right;\n",
              "    }\n",
              "</style>\n",
              "<table border=\"1\" class=\"dataframe\">\n",
              "  <thead>\n",
              "    <tr style=\"text-align: right;\">\n",
              "      <th></th>\n",
              "      <th>Cyclone_Inlet_Gas_Temp</th>\n",
              "      <th>Cyclone_Material_Temp</th>\n",
              "      <th>Cyclone_Outlet_Gas_draft</th>\n",
              "      <th>Cyclone_cone_draft</th>\n",
              "      <th>Cyclone_Gas_Outlet_Temp</th>\n",
              "      <th>Cyclone_Inlet_Draft</th>\n",
              "    </tr>\n",
              "  </thead>\n",
              "  <tbody>\n",
              "    <tr>\n",
              "      <th>0</th>\n",
              "      <td>867.63</td>\n",
              "      <td>910.42</td>\n",
              "      <td>-189.54</td>\n",
              "      <td>-186.04</td>\n",
              "      <td>852.13</td>\n",
              "      <td>-145.9</td>\n",
              "    </tr>\n",
              "    <tr>\n",
              "      <th>1</th>\n",
              "      <td>879.23</td>\n",
              "      <td>918.14</td>\n",
              "      <td>-184.33</td>\n",
              "      <td>-182.1</td>\n",
              "      <td>862.53</td>\n",
              "      <td>-149.76</td>\n",
              "    </tr>\n",
              "    <tr>\n",
              "      <th>2</th>\n",
              "      <td>875.67</td>\n",
              "      <td>924.18</td>\n",
              "      <td>-181.26</td>\n",
              "      <td>-166.47</td>\n",
              "      <td>866.06</td>\n",
              "      <td>-145.01</td>\n",
              "    </tr>\n",
              "  </tbody>\n",
              "</table>\n",
              "</div>\n",
              "      <button class=\"colab-df-convert\" onclick=\"convertToInteractive('df-ee257eaf-d38b-427a-b85f-9ce8daca1709')\"\n",
              "              title=\"Convert this dataframe to an interactive table.\"\n",
              "              style=\"display:none;\">\n",
              "        \n",
              "  <svg xmlns=\"http://www.w3.org/2000/svg\" height=\"24px\"viewBox=\"0 0 24 24\"\n",
              "       width=\"24px\">\n",
              "    <path d=\"M0 0h24v24H0V0z\" fill=\"none\"/>\n",
              "    <path d=\"M18.56 5.44l.94 2.06.94-2.06 2.06-.94-2.06-.94-.94-2.06-.94 2.06-2.06.94zm-11 1L8.5 8.5l.94-2.06 2.06-.94-2.06-.94L8.5 2.5l-.94 2.06-2.06.94zm10 10l.94 2.06.94-2.06 2.06-.94-2.06-.94-.94-2.06-.94 2.06-2.06.94z\"/><path d=\"M17.41 7.96l-1.37-1.37c-.4-.4-.92-.59-1.43-.59-.52 0-1.04.2-1.43.59L10.3 9.45l-7.72 7.72c-.78.78-.78 2.05 0 2.83L4 21.41c.39.39.9.59 1.41.59.51 0 1.02-.2 1.41-.59l7.78-7.78 2.81-2.81c.8-.78.8-2.07 0-2.86zM5.41 20L4 18.59l7.72-7.72 1.47 1.35L5.41 20z\"/>\n",
              "  </svg>\n",
              "      </button>\n",
              "      \n",
              "  <style>\n",
              "    .colab-df-container {\n",
              "      display:flex;\n",
              "      flex-wrap:wrap;\n",
              "      gap: 12px;\n",
              "    }\n",
              "\n",
              "    .colab-df-convert {\n",
              "      background-color: #E8F0FE;\n",
              "      border: none;\n",
              "      border-radius: 50%;\n",
              "      cursor: pointer;\n",
              "      display: none;\n",
              "      fill: #1967D2;\n",
              "      height: 32px;\n",
              "      padding: 0 0 0 0;\n",
              "      width: 32px;\n",
              "    }\n",
              "\n",
              "    .colab-df-convert:hover {\n",
              "      background-color: #E2EBFA;\n",
              "      box-shadow: 0px 1px 2px rgba(60, 64, 67, 0.3), 0px 1px 3px 1px rgba(60, 64, 67, 0.15);\n",
              "      fill: #174EA6;\n",
              "    }\n",
              "\n",
              "    [theme=dark] .colab-df-convert {\n",
              "      background-color: #3B4455;\n",
              "      fill: #D2E3FC;\n",
              "    }\n",
              "\n",
              "    [theme=dark] .colab-df-convert:hover {\n",
              "      background-color: #434B5C;\n",
              "      box-shadow: 0px 1px 3px 1px rgba(0, 0, 0, 0.15);\n",
              "      filter: drop-shadow(0px 1px 2px rgba(0, 0, 0, 0.3));\n",
              "      fill: #FFFFFF;\n",
              "    }\n",
              "  </style>\n",
              "\n",
              "      <script>\n",
              "        const buttonEl =\n",
              "          document.querySelector('#df-ee257eaf-d38b-427a-b85f-9ce8daca1709 button.colab-df-convert');\n",
              "        buttonEl.style.display =\n",
              "          google.colab.kernel.accessAllowed ? 'block' : 'none';\n",
              "\n",
              "        async function convertToInteractive(key) {\n",
              "          const element = document.querySelector('#df-ee257eaf-d38b-427a-b85f-9ce8daca1709');\n",
              "          const dataTable =\n",
              "            await google.colab.kernel.invokeFunction('convertToInteractive',\n",
              "                                                     [key], {});\n",
              "          if (!dataTable) return;\n",
              "\n",
              "          const docLinkHtml = 'Like what you see? Visit the ' +\n",
              "            '<a target=\"_blank\" href=https://colab.research.google.com/notebooks/data_table.ipynb>data table notebook</a>'\n",
              "            + ' to learn more about interactive tables.';\n",
              "          element.innerHTML = '';\n",
              "          dataTable['output_type'] = 'display_data';\n",
              "          await google.colab.output.renderOutput(dataTable, element);\n",
              "          const docLink = document.createElement('div');\n",
              "          docLink.innerHTML = docLinkHtml;\n",
              "          element.appendChild(docLink);\n",
              "        }\n",
              "      </script>\n",
              "    </div>\n",
              "  </div>\n",
              "  "
            ]
          },
          "metadata": {},
          "execution_count": 100
        }
      ]
    },
    {
      "cell_type": "code",
      "source": [
        "X = df.values"
      ],
      "metadata": {
        "id": "Hr7D7FC2UhSI"
      },
      "execution_count": null,
      "outputs": []
    },
    {
      "cell_type": "code",
      "source": [
        "pca = PCA(n_components=1,svd_solver= 'full')"
      ],
      "metadata": {
        "id": "77VpBg7Bkota"
      },
      "execution_count": null,
      "outputs": []
    },
    {
      "cell_type": "code",
      "source": [
        "len(df)"
      ],
      "metadata": {
        "colab": {
          "base_uri": "https://localhost:8080/"
        },
        "id": "FuQaQ-TbpkAC",
        "outputId": "c9f618cc-83b7-409a-fb7c-c027727d1b74"
      },
      "execution_count": null,
      "outputs": [
        {
          "output_type": "execute_result",
          "data": {
            "text/plain": [
              "377719"
            ]
          },
          "metadata": {},
          "execution_count": 109
        }
      ]
    },
    {
      "cell_type": "code",
      "source": [
        "principalComponents = pca.fit_transform(X)"
      ],
      "metadata": {
        "id": "toOWEmMvk76R"
      },
      "execution_count": null,
      "outputs": []
    },
    {
      "cell_type": "code",
      "source": [
        "principalComponents"
      ],
      "metadata": {
        "colab": {
          "base_uri": "https://localhost:8080/"
        },
        "id": "ZqUo-mPlk_k7",
        "outputId": "622df9e2-146c-48dd-8385-84fd4d636164"
      },
      "execution_count": null,
      "outputs": [
        {
          "output_type": "execute_result",
          "data": {
            "text/plain": [
              "array([[ 84.59548159],\n",
              "       [ 99.23362826],\n",
              "       [111.02677613],\n",
              "       ...,\n",
              "       [ 60.2007074 ],\n",
              "       [ 83.85110157],\n",
              "       [ 54.66892891]])"
            ]
          },
          "metadata": {},
          "execution_count": 111
        }
      ]
    },
    {
      "cell_type": "code",
      "source": [
        "pca.explained_variance_ratio_"
      ],
      "metadata": {
        "colab": {
          "base_uri": "https://localhost:8080/"
        },
        "id": "HfeNFY76q5SZ",
        "outputId": "e532ea34-c1b5-47c0-c554-a92c37791273"
      },
      "execution_count": null,
      "outputs": [
        {
          "output_type": "execute_result",
          "data": {
            "text/plain": [
              "array([0.86808765])"
            ]
          },
          "metadata": {},
          "execution_count": 112
        }
      ]
    },
    {
      "cell_type": "code",
      "source": [
        "principalDf = pd.DataFrame(data = principalComponents\n",
        "             , columns = ['principal component 1'])#, 'principal component 2'])"
      ],
      "metadata": {
        "id": "xz5JJWd8rDRr"
      },
      "execution_count": null,
      "outputs": []
    },
    {
      "cell_type": "code",
      "source": [
        "plt.plot(principalDf[\"principal component 1\"], \"*\")"
      ],
      "metadata": {
        "colab": {
          "base_uri": "https://localhost:8080/",
          "height": 282
        },
        "id": "LWjmAyE8rVe8",
        "outputId": "8e967a1b-d5d1-4b57-b5ea-5b9fd841f079"
      },
      "execution_count": null,
      "outputs": [
        {
          "output_type": "execute_result",
          "data": {
            "text/plain": [
              "[<matplotlib.lines.Line2D at 0x7ff5e5fe9dd0>]"
            ]
          },
          "metadata": {},
          "execution_count": 114
        },
        {
          "output_type": "display_data",
          "data": {
            "text/plain": [
              "<Figure size 432x288 with 1 Axes>"
            ],
            "image/png": "[encoded data removed]"
          },
          "metadata": {
            "needs_background": "light"
          }
        }
      ]
    },
    {
      "cell_type": "code",
      "source": [
        ""
      ],
      "metadata": {
        "id": "L8xMPg_WrZj8"
      },
      "execution_count": null,
      "outputs": []
    }
  ]
}